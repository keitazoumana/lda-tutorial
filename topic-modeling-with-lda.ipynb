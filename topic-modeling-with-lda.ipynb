{
 "cells": [
  {
   "cell_type": "markdown",
   "metadata": {
    "_cell_guid": "b1076dfc-b9ad-4769-8c92-a6c4dae69d19",
    "_uuid": "8f2839f25d086af736a60e9eeb907d3b93b6e0e5"
   },
   "source": [
    "`Zoumana KEITA, Data Scientist`\n",
    "\n",
    "# Latent Dirichlet Allocation / Analysis (LDA)     \n",
    "\n",
    "**Note**: you will need to unzip the data from the `data` folder in order to follow this notebook.  \n",
    "\n",
    "This is a probabilistic model used to find clusters assigments for documents.  \n",
    "It uses two probability values to cluster documents: \n",
    "- **P(word | topic)**: the probability that a particular word is associated with a particular topic. This first set of probability is also considered as the **Word X Topic** matrix.  \n",
    "- **P(topics | documents)**: the topics associated with documents. This second set of probability is considered as **Topics X Documents** matrix.   \n",
    "These probability values are calculated for all words, topics and documents.    \n",
    "\n",
    "For this tutorial, we will be using the dataset of the Australian Broadcasting Corporation, available on kaggle:   \n",
    "https://www.kaggle.com/therohk/million-headlines "
   ]
  },
  {
   "cell_type": "markdown",
   "metadata": {
    "_cell_guid": "79c7e3d0-c299-4dcb-8224-4455121ee9b0",
    "_uuid": "d629ff2d2480ee46fbb7e2d37f6b5fab8052498a",
    "collapsed": true
   },
   "source": [
    "## Import Useful Libraries "
   ]
  },
  {
   "cell_type": "code",
   "execution_count": 1,
   "metadata": {},
   "outputs": [],
   "source": [
    "import pandas as pd\n",
    "import matplotlib.pyplot as plt\n",
    "from sklearn.feature_extraction.text import CountVectorizer\n",
    "from sklearn.decomposition import LatentDirichletAllocation"
   ]
  },
  {
   "cell_type": "markdown",
   "metadata": {},
   "source": [
    "## Load the Dataset"
   ]
  },
  {
   "cell_type": "code",
   "execution_count": 2,
   "metadata": {},
   "outputs": [
    {
     "data": {
      "text/plain": [
       "(1226258, 2)"
      ]
     },
     "execution_count": 2,
     "metadata": {},
     "output_type": "execute_result"
    }
   ],
   "source": [
    "news_data = pd.read_csv(\"./data/news-data.csv\")\n",
    "news_data.shape"
   ]
  },
  {
   "cell_type": "code",
   "execution_count": 3,
   "metadata": {},
   "outputs": [
    {
     "data": {
      "text/html": [
       "<div>\n",
       "<style scoped>\n",
       "    .dataframe tbody tr th:only-of-type {\n",
       "        vertical-align: middle;\n",
       "    }\n",
       "\n",
       "    .dataframe tbody tr th {\n",
       "        vertical-align: top;\n",
       "    }\n",
       "\n",
       "    .dataframe thead th {\n",
       "        text-align: right;\n",
       "    }\n",
       "</style>\n",
       "<table border=\"1\" class=\"dataframe\">\n",
       "  <thead>\n",
       "    <tr style=\"text-align: right;\">\n",
       "      <th></th>\n",
       "      <th>publish_date</th>\n",
       "      <th>headline_text</th>\n",
       "    </tr>\n",
       "  </thead>\n",
       "  <tbody>\n",
       "    <tr>\n",
       "      <th>1215218</th>\n",
       "      <td>20200925</td>\n",
       "      <td>beetaloo gas development lands council asked t...</td>\n",
       "    </tr>\n",
       "    <tr>\n",
       "      <th>527404</th>\n",
       "      <td>20100324</td>\n",
       "      <td>land buy gives threatened birds space to spread</td>\n",
       "    </tr>\n",
       "    <tr>\n",
       "      <th>742690</th>\n",
       "      <td>20121122</td>\n",
       "      <td>ashburton council sacks ceo</td>\n",
       "    </tr>\n",
       "    <tr>\n",
       "      <th>766154</th>\n",
       "      <td>20130227</td>\n",
       "      <td>daisy smith interviews casey palmer</td>\n",
       "    </tr>\n",
       "    <tr>\n",
       "      <th>519049</th>\n",
       "      <td>20100212</td>\n",
       "      <td>prison escapee shot recaptured</td>\n",
       "    </tr>\n",
       "  </tbody>\n",
       "</table>\n",
       "</div>"
      ],
      "text/plain": [
       "         publish_date                                      headline_text\n",
       "1215218      20200925  beetaloo gas development lands council asked t...\n",
       "527404       20100324    land buy gives threatened birds space to spread\n",
       "742690       20121122                        ashburton council sacks ceo\n",
       "766154       20130227                daisy smith interviews casey palmer\n",
       "519049       20100212                     prison escapee shot recaptured"
      ]
     },
     "execution_count": 3,
     "metadata": {},
     "output_type": "execute_result"
    }
   ],
   "source": [
    "news_data.sample(5)"
   ]
  },
  {
   "cell_type": "markdown",
   "metadata": {},
   "source": [
    "Our data has over a million of records, and there are two columns: \n",
    "- the date a particular headline have been published.  \n",
    "- the actual headline.   \n",
    "By looking at the first 5 rows, we can see that we don't have the topic of the headline text! So, we will use LDA to attempt to figure out clusters of the news.   \n",
    "Over a **a million** of record, that is a lot of data. To do so, we will use only **20000** records to make the computation faster. You can increase the number of observation if you wish. "
   ]
  },
  {
   "cell_type": "markdown",
   "metadata": {},
   "source": [
    "## Preprocessing.    "
   ]
  },
  {
   "cell_type": "code",
   "execution_count": 7,
   "metadata": {},
   "outputs": [],
   "source": [
    "NUM_SAMPLES = 20000 # The number of sample to use \n",
    "sample_df = news_data.sample(NUM_SAMPLES, replace=False).reset_index(drop=True)"
   ]
  },
  {
   "cell_type": "code",
   "execution_count": 8,
   "metadata": {},
   "outputs": [
    {
     "data": {
      "text/plain": [
       "(20000, 2)"
      ]
     },
     "execution_count": 8,
     "metadata": {},
     "output_type": "execute_result"
    }
   ],
   "source": [
    "sample_df.shape"
   ]
  },
  {
   "cell_type": "code",
   "execution_count": 10,
   "metadata": {},
   "outputs": [
    {
     "data": {
      "text/html": [
       "<div>\n",
       "<style scoped>\n",
       "    .dataframe tbody tr th:only-of-type {\n",
       "        vertical-align: middle;\n",
       "    }\n",
       "\n",
       "    .dataframe tbody tr th {\n",
       "        vertical-align: top;\n",
       "    }\n",
       "\n",
       "    .dataframe thead th {\n",
       "        text-align: right;\n",
       "    }\n",
       "</style>\n",
       "<table border=\"1\" class=\"dataframe\">\n",
       "  <thead>\n",
       "    <tr style=\"text-align: right;\">\n",
       "      <th></th>\n",
       "      <th>publish_date</th>\n",
       "      <th>headline_text</th>\n",
       "    </tr>\n",
       "  </thead>\n",
       "  <tbody>\n",
       "    <tr>\n",
       "      <th>6779</th>\n",
       "      <td>20100722</td>\n",
       "      <td>the super seed chia takes off</td>\n",
       "    </tr>\n",
       "    <tr>\n",
       "      <th>9010</th>\n",
       "      <td>20160111</td>\n",
       "      <td>tasmanian mother sentenced over death of young...</td>\n",
       "    </tr>\n",
       "    <tr>\n",
       "      <th>16006</th>\n",
       "      <td>20141109</td>\n",
       "      <td>a league live streaming updates</td>\n",
       "    </tr>\n",
       "    <tr>\n",
       "      <th>17312</th>\n",
       "      <td>20181011</td>\n",
       "      <td>renewed push to remove abortion from crime law...</td>\n",
       "    </tr>\n",
       "    <tr>\n",
       "      <th>7497</th>\n",
       "      <td>20050802</td>\n",
       "      <td>shires form regional local govt</td>\n",
       "    </tr>\n",
       "  </tbody>\n",
       "</table>\n",
       "</div>"
      ],
      "text/plain": [
       "       publish_date                                      headline_text\n",
       "6779       20100722                      the super seed chia takes off\n",
       "9010       20160111  tasmanian mother sentenced over death of young...\n",
       "16006      20141109                    a league live streaming updates\n",
       "17312      20181011  renewed push to remove abortion from crime law...\n",
       "7497       20050802                    shires form regional local govt"
      ]
     },
     "execution_count": 10,
     "metadata": {},
     "output_type": "execute_result"
    }
   ],
   "source": [
    "sample_df.sample(5) # randomly show 5 rows"
   ]
  },
  {
   "cell_type": "markdown",
   "metadata": {},
   "source": [
    "We are not interested in the **publish_data** column, since we will only be using **headline_text** data.    \n",
    "\n",
    "**`max_df`**` : float in range [0.0, 1.0] or int, default=1.0`<br>\n",
    "When building the vocabulary ignore terms that have a document frequency strictly higher than the given threshold (corpus-specific stop words). If float, the parameter represents a proportion of documents, integer absolute counts. This parameter is ignored if vocabulary is not None.\n",
    "\n",
    "**`min_df`**` : float in range [0.0, 1.0] or int, default=1`<br>\n",
    "When building the vocabulary ignore terms that have a document frequency strictly lower than the given threshold. This value is also called cut-off in the literature. If float, the parameter represents a proportion of documents, integer absolute counts. This parameter is ignored if vocabulary is not None.     \n",
    "\n",
    "\n",
    "Be defining the **CountVectorizer** object as below, we ignore:   \n",
    "- all terms that occur over 95% times in our document corpus. We say in this case that the terms occuring more than this threshold are not significant, most of them are  `stopwords`.   \n",
    "\n",
    "- all the terms that occur fewer than three times in the entire corpus.  "
   ]
  },
  {
   "cell_type": "code",
   "execution_count": 11,
   "metadata": {},
   "outputs": [],
   "source": [
    "cv = CountVectorizer(max_df=0.95, min_df=3, stop_words=\"english\")\n",
    "dtm = cv.fit_transform(sample_df['headline_text'])"
   ]
  },
  {
   "cell_type": "code",
   "execution_count": 14,
   "metadata": {},
   "outputs": [
    {
     "data": {
      "text/plain": [
       "<20000x6425 sparse matrix of type '<class 'numpy.int64'>'\n",
       "\twith 89645 stored elements in Compressed Sparse Row format>"
      ]
     },
     "execution_count": 14,
     "metadata": {},
     "output_type": "execute_result"
    }
   ],
   "source": [
    "dtm"
   ]
  },
  {
   "cell_type": "markdown",
   "metadata": {},
   "source": [
    "We can observe that our Document X Term Matrix (dtm) has:  \n",
    "- 20000 documents, and.  \n",
    "- 6425 distinct words   \n",
    "\n",
    "We can also get all those words using the `get_feature_names()` function"
   ]
  },
  {
   "cell_type": "code",
   "execution_count": 18,
   "metadata": {},
   "outputs": [
    {
     "data": {
      "text/plain": [
       "6425"
      ]
     },
     "execution_count": 18,
     "metadata": {},
     "output_type": "execute_result"
    }
   ],
   "source": [
    "feature_names = cv.get_feature_names()\n",
    "len(feature_names) # show the total number of distinct words"
   ]
  },
  {
   "cell_type": "markdown",
   "metadata": {},
   "source": [
    "Let's have a look at some of the features that have been extracted from the documents.  "
   ]
  },
  {
   "cell_type": "code",
   "execution_count": 23,
   "metadata": {},
   "outputs": [
    {
     "data": {
      "text/plain": [
       "['zimbabwe', 'zimbabwean', 'zone', 'zones', 'zoo']"
      ]
     },
     "execution_count": 23,
     "metadata": {},
     "output_type": "execute_result"
    }
   ],
   "source": [
    "feature_names[6420:]"
   ]
  },
  {
   "cell_type": "markdown",
   "metadata": {},
   "source": [
    "## LDA     \n",
    "From our DTM matrix, we can now build our LDA to extract topics from the underlined texts. The number of topic to be extracted is a hyperparameter, so we do not know it a a glance. In our case, we will be using 7 topics.   \n",
    "LDA is an iterative algorithm, we will have 30 iterations in our case, but the default value is 10.  "
   ]
  },
  {
   "cell_type": "code",
   "execution_count": 25,
   "metadata": {},
   "outputs": [
    {
     "data": {
      "text/plain": [
       "LatentDirichletAllocation(max_iter=30, n_components=7, random_state=2021)"
      ]
     },
     "execution_count": 25,
     "metadata": {},
     "output_type": "execute_result"
    }
   ],
   "source": [
    "# Set the number of topics\n",
    "NB_TOPICS = 7 \n",
    "\n",
    "# Creat the model\n",
    "LDA_model = LatentDirichletAllocation(n_components = NB_TOPICS, max_iter = 30, random_state = 2021)\n",
    "\n",
    "# Fit the model on the dtm\n",
    "LDA_model.fit(dtm)"
   ]
  },
  {
   "cell_type": "markdown",
   "metadata": {},
   "source": [
    "### Show Stored Words.   \n",
    "Let's randomnly have a look at some words of that have been stored.  "
   ]
  },
  {
   "cell_type": "code",
   "execution_count": 14,
   "metadata": {},
   "outputs": [
    {
     "data": {
      "text/plain": [
       "6512"
      ]
     },
     "execution_count": 14,
     "metadata": {},
     "output_type": "execute_result"
    }
   ],
   "source": [
    "len(feature_names)"
   ]
  },
  {
   "cell_type": "code",
   "execution_count": 15,
   "metadata": {},
   "outputs": [
    {
     "name": "stdout",
     "output_type": "stream",
     "text": [
      "critical\n",
      "cover\n",
      "prepare\n",
      "named\n",
      "day\n",
      "gender\n",
      "cold\n",
      "chancellor\n",
      "danny\n",
      "quizzed\n",
      "offices\n",
      "november\n",
      "check\n",
      "vline\n",
      "downturn\n"
     ]
    }
   ],
   "source": [
    "import random \n",
    "for index in range(15):\n",
    "    random_word_ID = random.randint(0, 6506)\n",
    "    print(cv.get_feature_names()[random_word_ID])"
   ]
  },
  {
   "cell_type": "markdown",
   "metadata": {},
   "source": [
    "### Top Words Per Topic"
   ]
  },
  {
   "cell_type": "code",
   "execution_count": 16,
   "metadata": {},
   "outputs": [
    {
     "data": {
      "text/plain": [
       "6512"
      ]
     },
     "execution_count": 16,
     "metadata": {},
     "output_type": "execute_result"
    }
   ],
   "source": [
    "len(LDA_model.components_[0])"
   ]
  },
  {
   "cell_type": "code",
   "execution_count": 17,
   "metadata": {},
   "outputs": [
    {
     "data": {
      "text/plain": [
       "array([3639, 4609, 1216, ...,  488, 3071, 5073])"
      ]
     },
     "execution_count": 17,
     "metadata": {},
     "output_type": "execute_result"
    }
   ],
   "source": [
    "# Pick a single topic \n",
    "a_topic = LDA_model.components_[0]\n",
    "\n",
    "# Get the indices that would sort this array\n",
    "a_topic.argsort()"
   ]
  },
  {
   "cell_type": "code",
   "execution_count": 18,
   "metadata": {},
   "outputs": [
    {
     "data": {
      "text/plain": [
       "1.1428829090017396"
      ]
     },
     "execution_count": 18,
     "metadata": {},
     "output_type": "execute_result"
    }
   ],
   "source": [
    "# The word least representative of this topic\n",
    "a_topic[597]"
   ]
  },
  {
   "cell_type": "code",
   "execution_count": 19,
   "metadata": {},
   "outputs": [
    {
     "data": {
      "text/plain": [
       "2.140750629758621"
      ]
     },
     "execution_count": 19,
     "metadata": {},
     "output_type": "execute_result"
    }
   ],
   "source": [
    "# The word most representative of this topic\n",
    "a_topic[3598]"
   ]
  },
  {
   "cell_type": "markdown",
   "metadata": {},
   "source": [
    "Let have a look at the top 10 words for the topic we previously took"
   ]
  },
  {
   "cell_type": "code",
   "execution_count": 20,
   "metadata": {},
   "outputs": [
    {
     "name": "stdout",
     "output_type": "stream",
     "text": [
      "support\n",
      "home\n",
      "government\n",
      "pm\n",
      "body\n",
      "mp\n",
      "new\n",
      "australia\n",
      "iraq\n",
      "says\n"
     ]
    }
   ],
   "source": [
    "top_10_words_indices = a_topic.argsort()[-10:]\n",
    "\n",
    "for i in top_10_words_indices:\n",
    "    print(cv.get_feature_names()[i])"
   ]
  },
  {
   "cell_type": "markdown",
   "metadata": {},
   "source": [
    "This looks like Government Article. Let's have a look at all the 7 topics found. "
   ]
  },
  {
   "cell_type": "code",
   "execution_count": 26,
   "metadata": {},
   "outputs": [
    {
     "name": "stdout",
     "output_type": "stream",
     "text": [
      "THE TOP 10 WORDS FOR TOPIC #0\n",
      "['weather', 'election', 'labor', 'urged', 'qld', 'act', 'council', 'nsw', 'new', 'govt']\n",
      "\n",
      "\n",
      "THE TOP 10 WORDS FOR TOPIC #1\n",
      "['report', 'indigenous', 'country', 'rural', 'charged', 'accused', 'new', 'health', 'calls', 'says']\n",
      "\n",
      "\n",
      "THE TOP 10 WORDS FOR TOPIC #2\n",
      "['queensland', 'charges', 'hospital', 'case', 'guilty', 'child', 'sex', 'murder', 'man', 'court']\n",
      "\n",
      "\n",
      "THE TOP 10 WORDS FOR TOPIC #3\n",
      "['face', 'england', 'years', 'win', 'australian', 'talks', 'wins', 'final', 'cup', 'world']\n",
      "\n",
      "\n",
      "THE TOP 10 WORDS FOR TOPIC #4\n",
      "['probe', 'dead', 'woman', 'killed', 'dies', 'car', 'crash', 'man', 'interview', 'police']\n",
      "\n",
      "\n",
      "THE TOP 10 WORDS FOR TOPIC #5\n",
      "['live', 'return', 'care', 'residents', 'test', 'australia', 'new', 'change', 'workers', 'day']\n",
      "\n",
      "\n",
      "THE TOP 10 WORDS FOR TOPIC #6\n",
      "['news', 'search', 'west', 'market', 'coronavirus', 'national', 'gold', 'farmers', 'sydney', 'coast']\n",
      "\n",
      "\n"
     ]
    }
   ],
   "source": [
    "for i, topic in enumerate(LDA_model.components_):\n",
    "    print(\"THE TOP {} WORDS FOR TOPIC #{}\".format(10, i))\n",
    "    print([cv.get_feature_names()[index] for index in topic.argsort()[-10:]])\n",
    "    print(\"\\n\")"
   ]
  },
  {
   "cell_type": "markdown",
   "metadata": {},
   "source": [
    "### Attach Discovered Topic Labels to Original News"
   ]
  },
  {
   "cell_type": "code",
   "execution_count": 36,
   "metadata": {},
   "outputs": [
    {
     "data": {
      "text/plain": [
       "(20000, 7)"
      ]
     },
     "execution_count": 36,
     "metadata": {},
     "output_type": "execute_result"
    }
   ],
   "source": [
    "# Link documents to topics\n",
    "final_topics = LDA_model.transform(dtm)\n",
    "\n",
    "# Show the shape of the object \n",
    "print(final_topics.shape)"
   ]
  },
  {
   "cell_type": "code",
   "execution_count": 37,
   "metadata": {},
   "outputs": [
    {
     "data": {
      "text/plain": [
       "array([[0.78546277, 0.03584818, 0.03573262, ..., 0.03573895, 0.03575926,\n",
       "        0.03572223],\n",
       "       [0.02396784, 0.85686803, 0.02382918, ..., 0.02381215, 0.02389657,\n",
       "        0.02381165],\n",
       "       [0.02042289, 0.02043044, 0.87724226, ..., 0.02047303, 0.0204082 ,\n",
       "        0.0204082 ],\n",
       "       ...,\n",
       "       [0.02041586, 0.31497376, 0.02040817, ..., 0.02042139, 0.02040817,\n",
       "        0.58295903],\n",
       "       [0.07142857, 0.07142857, 0.07142857, ..., 0.57142857, 0.07142857,\n",
       "        0.07142857],\n",
       "       [0.02061265, 0.5724096 , 0.02043014, ..., 0.02040818, 0.32524833,\n",
       "        0.02041491]])"
      ]
     },
     "execution_count": 37,
     "metadata": {},
     "output_type": "execute_result"
    }
   ],
   "source": [
    "final_topics"
   ]
  },
  {
   "cell_type": "markdown",
   "metadata": {},
   "source": [
    "**final_topics** contains, for each of our 20.000 documents, the probability score of how likely a document belongs to each of the 7 topics.  This is a Document X Topics matrix. \n",
    "For example, below is the probability values for the fourth document."
   ]
  },
  {
   "cell_type": "code",
   "execution_count": 33,
   "metadata": {},
   "outputs": [
    {
     "data": {
      "text/plain": [
       "array([0.02046722, 0.87731625, 0.02041653, 0.02040818, 0.0204244 ,\n",
       "       0.02050817, 0.02045925])"
      ]
     },
     "execution_count": 33,
     "metadata": {},
     "output_type": "execute_result"
    }
   ],
   "source": [
    "final_topics[4]"
   ]
  },
  {
   "cell_type": "code",
   "execution_count": 34,
   "metadata": {},
   "outputs": [
    {
     "data": {
      "text/plain": [
       "1"
      ]
     },
     "execution_count": 34,
     "metadata": {},
     "output_type": "execute_result"
    }
   ],
   "source": [
    "final_topics[4].argmax()"
   ]
  },
  {
   "cell_type": "markdown",
   "metadata": {},
   "source": [
    "This value (4) means that our LDA model thinks that the first document belongs to the 4th topic."
   ]
  },
  {
   "cell_type": "markdown",
   "metadata": {},
   "source": [
    "### Combination with the original data     \n",
    "Let's create a new column called **Topic N°** that will correspond to the topic value to which each document belongs to."
   ]
  },
  {
   "cell_type": "code",
   "execution_count": 38,
   "metadata": {},
   "outputs": [],
   "source": [
    "sample_df[\"Topic N°\"] = final_topics.argmax(axis=1)"
   ]
  },
  {
   "cell_type": "code",
   "execution_count": 39,
   "metadata": {},
   "outputs": [
    {
     "data": {
      "text/html": [
       "<div>\n",
       "<style scoped>\n",
       "    .dataframe tbody tr th:only-of-type {\n",
       "        vertical-align: middle;\n",
       "    }\n",
       "\n",
       "    .dataframe tbody tr th {\n",
       "        vertical-align: top;\n",
       "    }\n",
       "\n",
       "    .dataframe thead th {\n",
       "        text-align: right;\n",
       "    }\n",
       "</style>\n",
       "<table border=\"1\" class=\"dataframe\">\n",
       "  <thead>\n",
       "    <tr style=\"text-align: right;\">\n",
       "      <th></th>\n",
       "      <th>publish_date</th>\n",
       "      <th>headline_text</th>\n",
       "      <th>Topic N°</th>\n",
       "    </tr>\n",
       "  </thead>\n",
       "  <tbody>\n",
       "    <tr>\n",
       "      <th>0</th>\n",
       "      <td>20120712</td>\n",
       "      <td>rac welcomes new laws</td>\n",
       "      <td>0</td>\n",
       "    </tr>\n",
       "    <tr>\n",
       "      <th>1</th>\n",
       "      <td>20090608</td>\n",
       "      <td>aboriginal groups praised for weed removal</td>\n",
       "      <td>1</td>\n",
       "    </tr>\n",
       "    <tr>\n",
       "      <th>2</th>\n",
       "      <td>20171211</td>\n",
       "      <td>josh homme queens of the stone age kicks photo...</td>\n",
       "      <td>2</td>\n",
       "    </tr>\n",
       "    <tr>\n",
       "      <th>3</th>\n",
       "      <td>20061106</td>\n",
       "      <td>iraq likely to be top issue for us voters</td>\n",
       "      <td>3</td>\n",
       "    </tr>\n",
       "    <tr>\n",
       "      <th>4</th>\n",
       "      <td>20150423</td>\n",
       "      <td>qld country hour 23 april 2015</td>\n",
       "      <td>1</td>\n",
       "    </tr>\n",
       "  </tbody>\n",
       "</table>\n",
       "</div>"
      ],
      "text/plain": [
       "   publish_date                                      headline_text  Topic N°\n",
       "0      20120712                              rac welcomes new laws         0\n",
       "1      20090608         aboriginal groups praised for weed removal         1\n",
       "2      20171211  josh homme queens of the stone age kicks photo...         2\n",
       "3      20061106          iraq likely to be top issue for us voters         3\n",
       "4      20150423                     qld country hour 23 april 2015         1"
      ]
     },
     "execution_count": 39,
     "metadata": {},
     "output_type": "execute_result"
    }
   ],
   "source": [
    "sample_df.head()"
   ]
  },
  {
   "cell_type": "markdown",
   "metadata": {},
   "source": [
    "According to our LDA model:   \n",
    "- the first document belongs to 4th topic.  \n",
    "- the second document belongs to 4th topic. \n",
    "- the third document belongs to 6th topic.  \n",
    "etc.   "
   ]
  },
  {
   "cell_type": "markdown",
   "metadata": {},
   "source": [
    "## Some Visualization       \n",
    "We will be using the `pyldavis` module to visualize the topics associated to our documents.   "
   ]
  },
  {
   "cell_type": "code",
   "execution_count": 40,
   "metadata": {},
   "outputs": [],
   "source": [
    "import pyLDAvis.sklearn"
   ]
  },
  {
   "cell_type": "code",
   "execution_count": 41,
   "metadata": {},
   "outputs": [],
   "source": [
    "pyLDAvis.enable_notebook() # To enable the visualization on the notebook"
   ]
  },
  {
   "cell_type": "code",
   "execution_count": 42,
   "metadata": {},
   "outputs": [
    {
     "name": "stderr",
     "output_type": "stream",
     "text": [
      "/Library/Frameworks/Python.framework/Versions/3.6/lib/python3.6/site-packages/sklearn/manifold/_t_sne.py:699: FutureWarning: 'square_distances' has been introduced in 0.24 to help phase out legacy squaring behavior. The 'legacy' setting will be removed in 1.1 (renaming of 0.26), and the default setting will be changed to True. In 1.3, 'square_distances' will be removed altogether, and distances will be squared by default. Set 'square_distances'=True to silence this warning.\n",
      "  FutureWarning\n"
     ]
    },
    {
     "data": {
      "text/html": [
       "\n",
       "<link rel=\"stylesheet\" type=\"text/css\" href=\"https://cdn.rawgit.com/bmabey/pyLDAvis/files/ldavis.v1.0.0.css\">\n",
       "\n",
       "\n",
       "<div id=\"ldavis_el5658658616515842264142829\"></div>\n",
       "<script type=\"text/javascript\">\n",
       "\n",
       "var ldavis_el5658658616515842264142829_data = {\"mdsDat\": {\"x\": [-29.59400177001953, -45.996585845947266, 20.36885643005371, 53.928768157958984, -12.437127113342285, 3.9659712314605713, 37.52428436279297], \"y\": [60.11271286010742, 11.891684532165527, 70.01932525634766, 31.704309463500977, -26.423267364501953, 21.797719955444336, -16.517805099487305], \"topics\": [1, 2, 3, 4, 5, 6, 7], \"cluster\": [1, 1, 1, 1, 1, 1, 1], \"Freq\": [15.711313895839751, 15.705909050754002, 14.513894846730535, 13.988384554568947, 13.612071392826788, 13.525340038874115, 12.943086220405853]}, \"tinfo\": {\"Term\": [\"police\", \"interview\", \"court\", \"says\", \"man\", \"govt\", \"crash\", \"car\", \"world\", \"day\", \"murder\", \"coast\", \"cup\", \"calls\", \"sex\", \"health\", \"child\", \"killed\", \"dies\", \"final\", \"farmers\", \"accused\", \"gold\", \"workers\", \"charged\", \"national\", \"nsw\", \"guilty\", \"sydney\", \"market\", \"govt\", \"act\", \"labor\", \"weather\", \"greens\", \"east\", \"street\", \"alice\", \"promises\", \"poll\", \"liberals\", \"wall\", \"doubt\", \"dispute\", \"concern\", \"pledges\", \"discuss\", \"wide\", \"insurance\", \"territory\", \"elections\", \"fed\", \"industrial\", \"springs\", \"urged\", \"mixed\", \"sport\", \"base\", \"criticises\", \"dr\", \"abc\", \"federal\", \"regional\", \"star\", \"councils\", \"urges\", \"nsw\", \"northern\", \"council\", \"laws\", \"rudd\", \"local\", \"industry\", \"qld\", \"action\", \"election\", \"help\", \"rejects\", \"boost\", \"tourism\", \"changes\", \"new\", \"future\", \"record\", \"public\", \"plan\", \"sa\", \"government\", \"canberra\", \"rise\", \"hospital\", \"country\", \"opposition\", \"trump\", \"cuts\", \"protest\", \"job\", \"hour\", \"violence\", \"donald\", \"scheme\", \"questions\", \"2015\", \"christmas\", \"mental\", \"signs\", \"welfare\", \"morrison\", \"capital\", \"calls\", \"2014\", \"hong\", \"confidence\", \"ceo\", \"tony\", \"sell\", \"reporter\", \"kong\", \"dam\", \"term\", \"approach\", \"says\", \"health\", \"accused\", \"indigenous\", \"charged\", \"rural\", \"shire\", \"group\", \"community\", \"budget\", \"drug\", \"report\", \"island\", \"minister\", \"wants\", \"union\", \"new\", \"water\", \"government\", \"plan\", \"wa\", \"deal\", \"funding\", \"council\", \"sa\", \"court\", \"murder\", \"sex\", \"child\", \"guilty\", \"abuse\", \"hears\", \"airport\", \"korea\", \"indonesia\", \"pleads\", \"asylum\", \"worker\", \"consider\", \"southern\", \"tests\", \"sentence\", \"newcastle\", \"numbers\", \"blamed\", \"facing\", \"stars\", \"plea\", \"evidence\", \"lawyer\", \"harbour\", \"dollar\", \"darling\", \"arson\", \"leadership\", \"appeal\", \"charges\", \"inquest\", \"crisis\", \"town\", \"faces\", \"queensland\", \"case\", \"man\", \"media\", \"told\", \"hospital\", \"trial\", \"assault\", \"speaks\", \"death\", \"north\", \"australian\", \"high\", \"school\", \"perth\", \"china\", \"police\", \"interview\", \"crash\", \"car\", \"fatal\", \"shooting\", \"ahead\", \"investigate\", \"accident\", \"head\", \"injured\", \"baby\", \"stabbing\", \"stolen\", \"military\", \"blast\", \"officer\", \"bomb\", \"troops\", \"raid\", \"sri\", \"crashes\", \"kill\", \"chase\", \"killed\", \"eagles\", \"lanka\", \"ice\", \"quake\", \"jones\", \"probe\", \"dies\", \"truck\", \"driver\", \"ban\", \"dead\", \"woman\", \"kills\", \"man\", \"nz\", \"hunt\", \"continue\", \"death\", \"australia\", \"power\", \"home\", \"missing\", \"new\", \"world\", \"cup\", \"final\", \"years\", \"england\", \"red\", \"men\", \"rugby\", \"rape\", \"grand\", \"miss\", \"chinese\", \"award\", \"real\", \"sentenced\", \"bashing\", \"dry\", \"late\", \"manslaughter\", \"prince\", \"questioned\", \"quarter\", \"proposed\", \"seat\", \"prepares\", \"european\", \"phone\", \"lives\", \"anniversary\", \"estate\", \"talks\", \"mother\", \"title\", \"funds\", \"wins\", \"war\", \"leads\", \"win\", \"france\", \"free\", \"start\", \"australian\", \"face\", \"end\", \"india\", \"set\", \"jailed\", \"iraq\", \"highway\", \"open\", \"melbourne\", \"trade\", \"australia\", \"road\", \"man\", \"victims\", \"fight\", \"new\", \"trial\", \"coast\", \"farmers\", \"gold\", \"national\", \"market\", \"west\", \"search\", \"news\", \"safety\", \"season\", \"begins\", \"flu\", \"dairy\", \"covid\", \"share\", \"ship\", \"beat\", \"19\", \"farming\", \"rises\", \"milk\", \"records\", \"half\", \"alive\", \"opening\", \"cruise\", \"iron\", \"pressure\", \"nations\", \"tree\", \"rain\", \"coronavirus\", \"amid\", \"sydney\", \"boy\", \"north\", \"continues\", \"threat\", \"missing\", \"farmer\", \"price\", \"land\", \"make\", \"water\", \"club\", \"open\", \"death\", \"nsw\", \"nt\", \"day\", \"change\", \"care\", \"return\", \"workers\", \"live\", \"team\", \"climate\", \"cancer\", \"markets\", \"nrl\", \"tigers\", \"aged\", \"drum\", \"track\", \"plant\", \"friday\", \"wind\", \"monday\", \"stage\", \"restrictions\", \"wednesday\", \"michael\", \"bus\", \"lead\", \"history\", \"confident\", \"vs\", \"june\", \"warriors\", \"residents\", \"broken\", \"test\", \"farm\", \"hill\", \"green\", \"city\", \"program\", \"work\", \"brisbane\", \"jobs\", \"australia\", \"new\", \"park\", \"defends\", \"council\", \"adelaide\"], \"Freq\": [578.0, 259.0, 264.0, 337.0, 496.0, 230.0, 190.0, 162.0, 148.0, 142.0, 149.0, 137.0, 137.0, 155.0, 132.0, 161.0, 124.0, 127.0, 144.0, 113.0, 111.0, 147.0, 109.0, 107.0, 163.0, 106.0, 232.0, 107.0, 193.0, 100.0, 229.56859439959516, 108.37371460484484, 99.12244801044508, 79.69431641896844, 55.640310822536826, 50.08912738984119, 41.762883757232395, 37.13711373444459, 33.436884112253054, 32.51166748323376, 31.58688028642145, 30.661541039143085, 30.661386866076757, 30.661351043390383, 30.661284567046263, 28.81121243854614, 28.81100287056694, 26.035621219262982, 23.260372195143333, 23.26026248077847, 23.26023107664939, 22.334770934897794, 21.40992156495826, 21.409866153694377, 104.3359012090169, 20.48473868828799, 20.48438960754032, 20.48422716021229, 18.634303588135136, 17.709062512859685, 77.50527137484889, 69.75723772936341, 55.9275025575883, 46.24092057420166, 34.14983961627136, 65.9788228494222, 136.72927673109936, 42.61930877438268, 136.52740278707253, 59.49214037569122, 34.816709145483294, 53.27150016859173, 57.19470878787955, 104.83288195139909, 61.7652351552951, 81.48060887974928, 71.9220011554414, 46.19402688932937, 62.36894858005867, 46.911326495568055, 50.81752635298896, 137.94616363283959, 49.25980944608401, 52.478527872891796, 53.15140826446596, 63.196535775198264, 57.76234098478049, 57.53623318614239, 52.01470863182222, 50.041402668584055, 50.176801538821515, 97.58018937338508, 91.08347538803427, 78.09034445347041, 77.16241590248804, 73.44990547704307, 61.385129465007935, 55.81700569176562, 55.81627066217744, 52.104300656617575, 48.39169705564318, 39.11104338940862, 37.2548274077532, 33.54220873661364, 29.83051469473774, 30.7326305533077, 27.974200851974086, 27.046300770449758, 27.045960999480418, 151.358106500804, 25.19022164432142, 25.190103764353363, 25.190060523544958, 25.189717750621217, 24.261849663316255, 24.261651297909275, 23.334080010836608, 23.333929603079042, 23.333293623479058, 20.549280571765117, 19.62165405694939, 301.91620667880215, 143.67213137409954, 130.98161215764782, 94.79231912539032, 125.20282948704416, 100.54309728518014, 34.108096291901646, 79.48088925967141, 63.3488595498691, 81.02133142479035, 64.84753374593252, 91.822140367188, 46.97730227394709, 77.00537018189004, 48.12179035312749, 66.68400948443686, 137.29109827445032, 85.51451041240726, 71.5854928647479, 65.75230523723098, 61.99726296591591, 54.69010867425041, 53.68960514136561, 58.16972786845678, 54.58583006583493, 263.5365780036634, 148.64771282812225, 131.83478518720537, 123.42802561005728, 106.61540437687995, 58.97823785580003, 50.57190552632358, 44.966888730764005, 44.03324685815568, 44.03303930855661, 42.16566403674788, 42.165269108468706, 40.296736264060854, 37.49431304936197, 35.62651086623365, 33.75848514782049, 32.82489299070875, 42.795064858681584, 30.021958223652646, 28.154321873114796, 27.220319705981208, 27.22022711907892, 26.286075552942595, 25.35222547923926, 24.41852118203347, 24.418115550916383, 24.418050504497117, 22.550174120531445, 22.55012948976882, 21.615642018170245, 65.88001984584066, 72.33736188341351, 33.040443994735526, 41.50033210855321, 39.89210553851196, 48.13721316487024, 70.35861926215571, 73.88696215395048, 191.41435424363152, 45.13289461215321, 45.15050729719845, 72.71093062918857, 56.42441203645214, 47.98975977180305, 40.26790505369919, 55.39419725605132, 48.77340937498176, 52.976015908286286, 43.95148914350558, 44.140337029546025, 42.57044033617275, 43.35512347088956, 577.2574490504724, 258.4913874375158, 189.71943417634608, 161.83891836883024, 70.76277229729469, 59.61042997665031, 56.821589386468695, 54.03439643649948, 54.03435243194306, 50.31667442935455, 46.59917732635084, 44.74056523911541, 43.811437947543666, 41.011918251445415, 40.093935710308266, 41.907226585043816, 32.65894193733061, 45.309568538503626, 30.800292046341163, 29.871444920996684, 28.94214123110051, 28.941931768786876, 26.153805202178606, 26.15343254946195, 123.29292418824915, 24.294379669306345, 22.436673116758623, 22.43627470956674, 21.506946073875103, 21.50687312533332, 77.5569300681287, 125.18006928821968, 45.343357418172864, 57.53735661824196, 75.73115207681477, 85.78458088078544, 107.98367107277282, 46.04617231769791, 227.7038850922778, 46.34316068341373, 39.00587585879954, 44.98322483300396, 75.53772456752934, 69.56072555798046, 55.597792517928326, 54.08683981854307, 47.41080347382332, 50.81321639745856, 148.03689477302308, 136.80386962232836, 112.46493931037378, 93.74259954285925, 63.78761390584012, 47.87378568794999, 46.937711532526734, 44.12982957187527, 39.449076630596146, 32.89657855650694, 32.896451415299026, 31.02432457165999, 27.279640051423097, 26.343804130671785, 26.343477075417898, 25.407185907664118, 22.599049693837223, 21.663130654539792, 20.726962376185845, 19.791159441717195, 19.790763809285572, 18.855174671825065, 18.854777025297444, 17.918601456821136, 17.91846661789112, 16.982810402486205, 16.98277377934963, 16.982540039682387, 16.046944128039655, 16.046638606613598, 103.09583389240666, 35.757208167706544, 42.65592727584153, 52.82833616795677, 105.0533502949532, 61.1172446416769, 34.05754573450722, 95.43384809123228, 32.702413945201904, 44.00024512093005, 43.596856026328545, 97.7328855523633, 63.405681316009684, 52.83346731794898, 35.40523055739932, 60.73552546936173, 49.60347394234406, 49.13962302324985, 36.866840766681094, 50.71253235215033, 51.11947928786275, 39.24095365704035, 61.821785949312954, 45.76088373660224, 60.516929085372404, 38.74478067445085, 40.16958280492261, 43.61893247163769, 39.95271574925884, 136.5549418094526, 111.15211340147954, 108.32987380639273, 105.50696385822593, 99.86245439278838, 96.09884935872442, 94.21705851407506, 91.39463426231352, 78.22266339157981, 62.22866796686602, 49.99765718086174, 41.530372114339215, 39.64874947010621, 35.88552177186945, 35.885137658701744, 34.00360232520586, 33.062807105166776, 33.06279581792329, 27.417899947113064, 23.654824896049472, 22.713777709849204, 21.77276720935928, 21.772563627439162, 21.771659983797672, 20.831933208989213, 19.89142255596008, 19.89136205607974, 19.890885597666866, 18.950162147603564, 18.950053386634185, 68.03084298643154, 103.9228619668851, 43.909038752326914, 115.1420865922344, 33.66891032792629, 83.79824335455609, 50.113285685177914, 39.420658190748874, 67.0534282957611, 31.954650996296397, 41.241761897965745, 43.548240670056956, 38.33154697473088, 66.27753480849283, 37.53829546421474, 41.21646554328606, 43.012321687373046, 42.576296719568475, 37.693854468572205, 141.3995902832581, 91.48543677053088, 67.9411472523763, 66.05771670013519, 106.03356802600635, 64.17415506654619, 62.29052499726928, 60.407201020700846, 54.7565257577131, 51.93132085277244, 51.93097189819995, 44.397226310303, 44.39714076825868, 38.74717535867126, 36.86301557535205, 36.86257025516314, 35.92127392770831, 34.97927658389286, 33.096118082214964, 32.1540209391526, 32.15384824577393, 31.21279869641634, 31.21198966671326, 31.197039541895123, 63.24845492904372, 28.387013333899624, 28.38691189797095, 27.445353576265198, 24.620162821665588, 24.62004690661419, 73.560183617342, 37.65135339611145, 77.32080120922443, 56.00333127292747, 58.27600542892137, 44.83481134931306, 46.61345304510551, 45.285276551588694, 54.12670451868662, 56.90986357426438, 46.894814601857874, 77.36465954200601, 85.07635840325776, 44.49286690355459, 49.24773495781894, 52.69551072798323, 43.53660907730507], \"Total\": [578.0, 259.0, 264.0, 337.0, 496.0, 230.0, 190.0, 162.0, 148.0, 142.0, 149.0, 137.0, 137.0, 155.0, 132.0, 161.0, 124.0, 127.0, 144.0, 113.0, 111.0, 147.0, 109.0, 107.0, 163.0, 106.0, 232.0, 107.0, 193.0, 100.0, 230.37097350242215, 109.1762492593556, 99.92474140643222, 80.49657876901054, 56.442664835070644, 50.891766968671774, 42.565406944526764, 37.939653354986284, 34.23904905160303, 33.313898573053926, 32.388743955306325, 31.463597911201354, 31.463599763812084, 31.4635991904475, 31.463599660913747, 29.61329510733088, 29.61329876606404, 26.83784419373876, 24.06239068612615, 24.06239227098144, 24.062392128190563, 23.137244051016705, 22.212090617065332, 22.212093360494695, 108.28106201359851, 21.28694216044669, 21.28695000656509, 21.286945109284204, 19.436642019862695, 18.511490750516572, 89.94204984775176, 82.38420294722403, 64.91343677311862, 54.72799000976861, 38.8771883559573, 87.18101002094558, 232.16843603417544, 53.71370702027659, 260.30627525543593, 85.20094509619143, 41.711515146119574, 75.31133170893426, 84.37971970743482, 209.0763840331104, 96.33070414192593, 150.51373959739516, 125.74831864358175, 62.171057133337676, 104.82289340460069, 65.90782483871078, 77.03668725823536, 510.3024056241737, 75.39274463143035, 86.3629054416813, 102.17361281188586, 188.77926439845555, 166.50566947256064, 170.06216366683952, 112.64543958351125, 93.93265904888592, 149.13012152573276, 98.38200726883375, 91.88544732144284, 78.89233200626111, 77.96425085919569, 74.25193239379848, 62.18689225336621, 56.61841247111713, 56.61841584549341, 52.90609545086928, 49.19377633890122, 39.91297662334131, 38.056820406049454, 34.34450133638066, 30.63217694910263, 31.560615035352924, 28.776019945442556, 27.847938329862842, 27.847945824770736, 155.94718796271306, 25.991780226795665, 25.9917797139778, 25.991779794749693, 25.991783456223942, 25.06370153690393, 25.063703768882768, 24.135619489384183, 24.135620183201947, 24.13562349747129, 21.35138195259744, 20.4233023164009, 337.1159419513027, 161.43772245383607, 147.70665164218335, 114.10076988028527, 163.6702815123816, 128.44802936781338, 38.06112133689905, 113.23791479750511, 84.76045310875213, 116.83275637657772, 89.30386158871485, 141.19236373602206, 58.489203334174455, 118.67038441683793, 62.24975531508488, 100.36232569153717, 510.3024056241737, 216.29253733591085, 170.06216366683952, 188.77926439845555, 195.501067192743, 114.50891238701941, 113.35268883053334, 260.30627525543593, 166.50566947256064, 264.33750312088915, 149.44857579179273, 132.63556156569953, 124.22905531159462, 107.41604151345341, 59.77916693938026, 51.37266198073788, 45.76832124304406, 44.8342670327731, 44.83426554280734, 42.96615432335976, 42.96615302479408, 41.0980397281399, 38.295871187361925, 36.42776108616406, 34.559646339393744, 33.62559053645815, 43.898273312967525, 30.823420404699704, 28.955307601404943, 28.021251947231086, 28.021257770808212, 27.087198588414466, 26.153140375960913, 25.219083670817337, 25.219085424287425, 25.21908883071924, 23.350970887863994, 23.35097231583098, 22.416911680218995, 78.5457885062395, 87.83293332305675, 36.414728314173495, 48.510722305770464, 46.74599076603091, 60.600957295019136, 102.97500560749296, 114.8542673938564, 496.01074423938223, 60.83527150151437, 64.42281164666849, 149.13012152573276, 100.01545807224478, 85.79906661353914, 55.95686637293139, 210.1671511476659, 133.23842023588708, 194.8201441751853, 94.20885860648767, 125.98950239399245, 81.39549231782452, 148.29368648744082, 578.0592312055356, 259.2925902504954, 190.52077937167076, 162.6403151735542, 71.5641314671531, 60.41194705638434, 57.62390495626774, 54.83585279026726, 54.835855322843535, 51.11845951755833, 47.40106679226986, 45.54236721005767, 44.61301805700433, 41.82503146214332, 40.8956220065721, 42.75465145648782, 33.460833657978945, 46.474336220143165, 31.60213298610195, 30.672783480084195, 29.743437210175255, 29.74343806544461, 26.95538850566338, 26.955394709312234, 127.34852956363358, 25.096701972068644, 23.23799576777688, 23.237992689463155, 22.308648370565162, 22.308647070584527, 86.3972366982277, 144.29492321602515, 51.179933513698444, 66.96084282689438, 98.41595344489845, 117.32389732046539, 160.14479917387874, 54.89388219840606, 496.01074423938223, 56.74292568757207, 45.61325100208999, 59.58210068502539, 210.1671511476659, 264.32338174995965, 126.72276904248135, 119.26179837201278, 115.13121127391533, 510.3024056241737, 148.83736748687573, 137.6041713891598, 113.26558127744876, 94.543583868013, 64.58839705738065, 48.674698989845936, 47.738600671568285, 44.93030490288835, 40.24980403855409, 33.697108828232615, 33.6971057518475, 31.824907828642367, 28.080510156509412, 27.144407547853255, 27.144408288315205, 26.208306413487833, 23.400011532321642, 22.463909789101304, 21.527810724833678, 20.591712256008737, 20.59170861576325, 19.65561399250587, 19.655608492204866, 18.71951000780262, 18.719514597011568, 17.783408881770914, 17.783411706664054, 17.783408072606367, 16.84731435177363, 16.847313266481294, 116.0799682069094, 39.3076879976, 47.76455057718269, 60.78218690390925, 130.23811962845684, 75.89193308771647, 39.336247464368455, 131.2352852531899, 38.40618080526321, 57.16181712884658, 57.931529510390504, 194.8201441751853, 105.68603966256796, 81.51149547405099, 45.92494235330472, 118.79084972345628, 84.09953168426672, 85.8494704814814, 50.396258920898674, 109.65970776279192, 125.27907951600332, 60.67501552950788, 264.32338174995965, 101.92629790119355, 496.01074423938223, 66.1953415391163, 101.09472569199491, 510.3024056241737, 100.01545807224478, 137.3547995229744, 111.9522318407146, 109.12972763492824, 106.30721592464755, 100.66220502342217, 96.89886009572069, 95.01718697947, 92.19468197164058, 79.02297767263734, 63.02877316772353, 50.79790738771708, 42.33038501491933, 40.44871668497686, 36.685373355041115, 36.68537147759349, 34.803701989161326, 33.86286618669243, 33.862862717345536, 28.21785082203609, 24.454509054227167, 23.51367326796862, 22.572836479337514, 22.57283351421022, 22.57282386915707, 21.632002382572193, 20.691167095411515, 20.691166567481638, 20.691159979434058, 19.75032949200641, 19.75032653189962, 72.37700746124706, 124.20246786720297, 49.86219313742866, 193.03012044136318, 40.41861204427947, 133.23842023588708, 69.5065158744442, 52.69198002059463, 115.13121127391533, 39.42542680824423, 58.14690361021807, 67.75622160890084, 56.174358860669756, 216.29253733591085, 63.79826229008983, 109.65970776279192, 210.1671511476659, 232.16843603417544, 121.24313764617199, 142.1994598999689, 92.2855227819228, 68.74121562477704, 66.85767372955675, 107.34631588041242, 64.9741282336823, 63.090583742640554, 61.207039624300954, 55.55640677665934, 52.73109014758806, 52.73108893675817, 45.19691434449159, 45.196911691891344, 39.54628479173776, 37.66273532261057, 37.662728422643816, 36.72096211558952, 35.779186929624025, 33.89564584159107, 32.953871914272256, 32.953867939243025, 32.01210572034556, 32.012098191471516, 32.011832155742034, 64.96624266129963, 29.186781787493018, 29.186781912861925, 28.245013347052492, 25.419696264109252, 25.419695888516568, 88.31258839139154, 41.411880675894835, 96.88070511712132, 67.78850667662226, 71.38493328165244, 51.783198178774256, 55.50735524339328, 54.490624330582314, 85.26113644947434, 101.46620465012913, 69.29491051196597, 264.32338174995965, 510.3024056241737, 70.59956652845455, 99.21331047745662, 260.30627525543593, 106.9686362826715], \"Category\": [\"Default\", \"Default\", \"Default\", \"Default\", \"Default\", \"Default\", \"Default\", \"Default\", \"Default\", \"Default\", \"Default\", \"Default\", \"Default\", \"Default\", \"Default\", \"Default\", \"Default\", \"Default\", \"Default\", \"Default\", \"Default\", \"Default\", \"Default\", \"Default\", \"Default\", \"Default\", \"Default\", \"Default\", \"Default\", \"Default\", \"Topic1\", \"Topic1\", \"Topic1\", \"Topic1\", \"Topic1\", \"Topic1\", \"Topic1\", \"Topic1\", \"Topic1\", \"Topic1\", \"Topic1\", \"Topic1\", \"Topic1\", \"Topic1\", \"Topic1\", \"Topic1\", \"Topic1\", \"Topic1\", \"Topic1\", \"Topic1\", \"Topic1\", \"Topic1\", \"Topic1\", \"Topic1\", \"Topic1\", \"Topic1\", \"Topic1\", \"Topic1\", \"Topic1\", \"Topic1\", \"Topic1\", \"Topic1\", \"Topic1\", \"Topic1\", \"Topic1\", \"Topic1\", \"Topic1\", \"Topic1\", \"Topic1\", \"Topic1\", \"Topic1\", \"Topic1\", \"Topic1\", \"Topic1\", \"Topic1\", \"Topic1\", \"Topic1\", \"Topic1\", \"Topic1\", \"Topic1\", \"Topic1\", \"Topic1\", \"Topic1\", \"Topic1\", \"Topic1\", \"Topic1\", \"Topic1\", \"Topic1\", \"Topic1\", \"Topic1\", \"Topic1\", \"Topic2\", \"Topic2\", \"Topic2\", \"Topic2\", \"Topic2\", \"Topic2\", \"Topic2\", \"Topic2\", \"Topic2\", \"Topic2\", \"Topic2\", \"Topic2\", \"Topic2\", \"Topic2\", \"Topic2\", \"Topic2\", \"Topic2\", \"Topic2\", \"Topic2\", \"Topic2\", \"Topic2\", \"Topic2\", \"Topic2\", \"Topic2\", \"Topic2\", \"Topic2\", \"Topic2\", \"Topic2\", \"Topic2\", \"Topic2\", \"Topic2\", \"Topic2\", \"Topic2\", \"Topic2\", \"Topic2\", \"Topic2\", \"Topic2\", \"Topic2\", \"Topic2\", \"Topic2\", \"Topic2\", \"Topic2\", \"Topic2\", \"Topic2\", \"Topic2\", \"Topic2\", \"Topic2\", \"Topic2\", \"Topic2\", \"Topic2\", \"Topic2\", \"Topic2\", \"Topic2\", \"Topic2\", \"Topic2\", \"Topic3\", \"Topic3\", \"Topic3\", \"Topic3\", \"Topic3\", \"Topic3\", \"Topic3\", \"Topic3\", \"Topic3\", \"Topic3\", \"Topic3\", \"Topic3\", \"Topic3\", \"Topic3\", \"Topic3\", \"Topic3\", \"Topic3\", \"Topic3\", \"Topic3\", \"Topic3\", \"Topic3\", \"Topic3\", \"Topic3\", \"Topic3\", \"Topic3\", \"Topic3\", \"Topic3\", \"Topic3\", \"Topic3\", \"Topic3\", \"Topic3\", \"Topic3\", \"Topic3\", \"Topic3\", \"Topic3\", \"Topic3\", \"Topic3\", \"Topic3\", \"Topic3\", \"Topic3\", \"Topic3\", \"Topic3\", \"Topic3\", \"Topic3\", \"Topic3\", \"Topic3\", \"Topic3\", \"Topic3\", \"Topic3\", \"Topic3\", \"Topic3\", \"Topic3\", \"Topic4\", \"Topic4\", \"Topic4\", \"Topic4\", \"Topic4\", \"Topic4\", \"Topic4\", \"Topic4\", \"Topic4\", \"Topic4\", \"Topic4\", \"Topic4\", \"Topic4\", \"Topic4\", \"Topic4\", \"Topic4\", \"Topic4\", \"Topic4\", \"Topic4\", \"Topic4\", \"Topic4\", \"Topic4\", \"Topic4\", \"Topic4\", \"Topic4\", \"Topic4\", \"Topic4\", \"Topic4\", \"Topic4\", \"Topic4\", \"Topic4\", \"Topic4\", \"Topic4\", \"Topic4\", \"Topic4\", \"Topic4\", \"Topic4\", \"Topic4\", \"Topic4\", \"Topic4\", \"Topic4\", \"Topic4\", \"Topic4\", \"Topic4\", \"Topic4\", \"Topic4\", \"Topic4\", \"Topic4\", \"Topic5\", \"Topic5\", \"Topic5\", \"Topic5\", \"Topic5\", \"Topic5\", \"Topic5\", \"Topic5\", \"Topic5\", \"Topic5\", \"Topic5\", \"Topic5\", \"Topic5\", \"Topic5\", \"Topic5\", \"Topic5\", \"Topic5\", \"Topic5\", \"Topic5\", \"Topic5\", \"Topic5\", \"Topic5\", \"Topic5\", \"Topic5\", \"Topic5\", \"Topic5\", \"Topic5\", \"Topic5\", \"Topic5\", \"Topic5\", \"Topic5\", \"Topic5\", \"Topic5\", \"Topic5\", \"Topic5\", \"Topic5\", \"Topic5\", \"Topic5\", \"Topic5\", \"Topic5\", \"Topic5\", \"Topic5\", \"Topic5\", \"Topic5\", \"Topic5\", \"Topic5\", \"Topic5\", \"Topic5\", \"Topic5\", \"Topic5\", \"Topic5\", \"Topic5\", \"Topic5\", \"Topic5\", \"Topic5\", \"Topic5\", \"Topic5\", \"Topic5\", \"Topic5\", \"Topic6\", \"Topic6\", \"Topic6\", \"Topic6\", \"Topic6\", \"Topic6\", \"Topic6\", \"Topic6\", \"Topic6\", \"Topic6\", \"Topic6\", \"Topic6\", \"Topic6\", \"Topic6\", \"Topic6\", \"Topic6\", \"Topic6\", \"Topic6\", \"Topic6\", \"Topic6\", \"Topic6\", \"Topic6\", \"Topic6\", \"Topic6\", \"Topic6\", \"Topic6\", \"Topic6\", \"Topic6\", \"Topic6\", \"Topic6\", \"Topic6\", \"Topic6\", \"Topic6\", \"Topic6\", \"Topic6\", \"Topic6\", \"Topic6\", \"Topic6\", \"Topic6\", \"Topic6\", \"Topic6\", \"Topic6\", \"Topic6\", \"Topic6\", \"Topic6\", \"Topic6\", \"Topic6\", \"Topic6\", \"Topic6\", \"Topic7\", \"Topic7\", \"Topic7\", \"Topic7\", \"Topic7\", \"Topic7\", \"Topic7\", \"Topic7\", \"Topic7\", \"Topic7\", \"Topic7\", \"Topic7\", \"Topic7\", \"Topic7\", \"Topic7\", \"Topic7\", \"Topic7\", \"Topic7\", \"Topic7\", \"Topic7\", \"Topic7\", \"Topic7\", \"Topic7\", \"Topic7\", \"Topic7\", \"Topic7\", \"Topic7\", \"Topic7\", \"Topic7\", \"Topic7\", \"Topic7\", \"Topic7\", \"Topic7\", \"Topic7\", \"Topic7\", \"Topic7\", \"Topic7\", \"Topic7\", \"Topic7\", \"Topic7\", \"Topic7\", \"Topic7\", \"Topic7\", \"Topic7\", \"Topic7\", \"Topic7\", \"Topic7\"], \"logprob\": [30.0, 29.0, 28.0, 27.0, 26.0, 25.0, 24.0, 23.0, 22.0, 21.0, 20.0, 19.0, 18.0, 17.0, 16.0, 15.0, 14.0, 13.0, 12.0, 11.0, 10.0, 9.0, 8.0, 7.0, 6.0, 5.0, 4.0, 3.0, 2.0, 1.0, -4.1181, -4.8688, -4.958, -5.1761, -5.5354, -5.6405, -5.8223, -5.9397, -6.0447, -6.0727, -6.1016, -6.1313, -6.1313, -6.1313, -6.1313, -6.1936, -6.1936, -6.2949, -6.4076, -6.4076, -6.4076, -6.4482, -6.4905, -6.4905, -4.9067, -6.5347, -6.5347, -6.5347, -6.6293, -6.6803, -5.204, -5.3093, -5.5303, -5.7205, -6.0236, -5.365, -4.6363, -5.802, -4.6378, -5.4685, -6.0042, -5.5789, -5.5079, -4.902, -5.431, -5.154, -5.2788, -5.7215, -5.4213, -5.7061, -5.6261, -4.6275, -5.6572, -5.5939, -5.5812, -5.4081, -5.498, -5.5019, -5.6028, -5.6415, -5.6388, -4.9733, -5.0422, -5.1961, -5.2081, -5.2574, -5.4368, -5.5319, -5.5319, -5.6007, -5.6747, -5.8876, -5.9362, -6.0412, -6.1585, -6.1287, -6.2227, -6.2564, -6.2565, -4.5343, -6.3275, -6.3275, -6.3275, -6.3276, -6.3651, -6.3651, -6.4041, -6.4041, -6.4041, -6.5312, -6.5774, -3.8438, -4.5865, -4.6789, -5.0023, -4.7241, -4.9434, -6.0245, -5.1785, -5.4053, -5.1593, -5.382, -5.0341, -5.7043, -5.2101, -5.6803, -5.354, -4.6319, -5.1053, -5.2831, -5.3681, -5.4269, -5.5523, -5.5708, -5.4906, -5.5542, -3.9009, -4.4735, -4.5935, -4.6594, -4.8058, -5.3979, -5.5517, -5.6691, -5.6901, -5.6901, -5.7335, -5.7335, -5.7788, -5.8509, -5.902, -5.9558, -5.9839, -5.7186, -6.0731, -6.1374, -6.1711, -6.1711, -6.206, -6.2422, -6.2797, -6.2797, -6.2797, -6.3593, -6.3593, -6.4016, -5.2872, -5.1937, -5.9773, -5.7494, -5.7889, -5.601, -5.2215, -5.1725, -4.2206, -5.6655, -5.6651, -5.1886, -5.4422, -5.6041, -5.7795, -5.4606, -5.5879, -5.5052, -5.692, -5.6877, -5.7239, -5.7056, -3.0799, -3.8833, -4.1926, -4.3516, -5.1789, -5.3504, -5.3983, -5.4486, -5.4486, -5.5198, -5.5966, -5.6373, -5.6583, -5.7243, -5.747, -5.7027, -5.9521, -5.6247, -6.0107, -6.0413, -6.0729, -6.0729, -6.1742, -6.1742, -4.6236, -6.2479, -6.3275, -6.3275, -6.3698, -6.3698, -5.0872, -4.6084, -5.6239, -5.3858, -5.111, -4.9863, -4.7562, -5.6085, -4.0101, -5.6021, -5.7745, -5.6319, -5.1136, -5.196, -5.42, -5.4476, -5.5793, -5.51, -4.4135, -4.4924, -4.6883, -4.8704, -5.2554, -5.5423, -5.5621, -5.6238, -5.7359, -5.9175, -5.9176, -5.9761, -6.1048, -6.1397, -6.1397, -6.1759, -6.293, -6.3353, -6.3795, -6.4257, -6.4257, -6.4741, -6.4741, -6.5251, -6.5251, -6.5787, -6.5787, -6.5787, -6.6354, -6.6354, -4.7753, -5.8342, -5.6577, -5.4439, -4.7564, -5.2981, -5.8829, -4.8525, -5.9235, -5.6267, -5.6359, -4.8287, -5.2614, -5.4438, -5.8441, -5.3044, -5.5069, -5.5162, -5.8036, -5.4847, -5.4767, -5.7412, -5.2867, -5.5875, -5.308, -5.7539, -5.7178, -5.6354, -5.7232, -4.4878, -4.6936, -4.7193, -4.7457, -4.8007, -4.8391, -4.8589, -4.8893, -5.045, -5.2737, -5.4925, -5.6781, -5.7245, -5.8242, -5.8242, -5.8781, -5.9061, -5.9061, -6.0933, -6.241, -6.2816, -6.3239, -6.3239, -6.3239, -6.368, -6.4142, -6.4142, -6.4143, -6.4627, -6.4627, -5.1846, -4.7609, -5.6224, -4.6584, -5.8879, -4.9761, -5.4902, -5.7302, -5.199, -5.9402, -5.6851, -5.6307, -5.7583, -5.2107, -5.7792, -5.6857, -5.643, -5.6532, -5.775, -4.4089, -4.8443, -5.1419, -5.17, -4.6968, -5.1989, -5.2287, -5.2594, -5.3576, -5.4106, -5.4106, -5.5673, -5.5673, -5.7035, -5.7533, -5.7533, -5.7792, -5.8058, -5.8611, -5.89, -5.89, -5.9197, -5.9197, -5.9202, -5.2134, -6.0146, -6.0146, -6.0483, -6.157, -6.157, -5.0624, -5.7322, -5.0126, -5.3351, -5.2953, -5.5575, -5.5186, -5.5475, -5.3692, -5.3191, -5.5126, -5.012, -4.917, -5.5652, -5.4637, -5.396, -5.5869], \"loglift\": [30.0, 29.0, 28.0, 27.0, 26.0, 25.0, 24.0, 23.0, 22.0, 21.0, 20.0, 19.0, 18.0, 17.0, 16.0, 15.0, 14.0, 13.0, 12.0, 11.0, 10.0, 9.0, 8.0, 7.0, 6.0, 5.0, 4.0, 3.0, 2.0, 1.0, 1.8473, 1.8434, 1.8427, 1.8408, 1.8365, 1.8349, 1.8318, 1.8294, 1.8271, 1.8264, 1.8257, 1.825, 1.825, 1.825, 1.825, 1.8233, 1.8233, 1.8204, 1.8169, 1.8169, 1.8169, 1.8155, 1.814, 1.814, 1.8137, 1.8124, 1.8124, 1.8124, 1.8086, 1.8065, 1.702, 1.6844, 1.7018, 1.6823, 1.7211, 1.5721, 1.3213, 1.6194, 1.2055, 1.4916, 1.6701, 1.5046, 1.4619, 1.1605, 1.4063, 1.2371, 1.2921, 1.5538, 1.3316, 1.5108, 1.4347, 0.5426, 1.4252, 1.3526, 1.1973, 0.7565, 0.7921, 0.767, 1.0781, 1.2211, 0.7615, 1.8429, 1.8424, 1.8409, 1.8408, 1.8403, 1.8382, 1.8369, 1.8369, 1.8359, 1.8347, 1.8308, 1.8298, 1.8275, 1.8246, 1.8245, 1.8229, 1.8219, 1.8219, 1.8213, 1.8198, 1.8198, 1.8198, 1.8198, 1.8186, 1.8186, 1.8174, 1.8174, 1.8173, 1.8128, 1.8111, 1.7409, 1.7345, 1.731, 1.6657, 1.5832, 1.6062, 1.7415, 1.4972, 1.56, 1.4851, 1.5311, 1.4209, 1.632, 1.4187, 1.5937, 1.4423, 0.5382, 0.9232, 0.9859, 0.7964, 0.7027, 1.1122, 1.1038, 0.3526, 0.7359, 1.927, 1.9247, 1.924, 1.9236, 1.9226, 1.9166, 1.9144, 1.9124, 1.912, 1.912, 1.9113, 1.9112, 1.9104, 1.9089, 1.9078, 1.9066, 1.906, 1.9046, 1.9037, 1.902, 1.9011, 1.9011, 1.9, 1.899, 1.8978, 1.8978, 1.8978, 1.8952, 1.8952, 1.8937, 1.7542, 1.736, 1.8328, 1.774, 1.7715, 1.6998, 1.5492, 1.4889, 0.9779, 1.6315, 1.5746, 1.2117, 1.3576, 1.349, 1.601, 0.5966, 0.9251, 0.6278, 1.1676, 0.8812, 1.2819, 0.7003, 1.9656, 1.9638, 1.9627, 1.962, 1.9557, 1.9536, 1.9529, 1.9522, 1.9522, 1.9511, 1.9499, 1.9492, 1.9488, 1.9473, 1.9471, 1.9469, 1.9427, 1.9416, 1.9412, 1.9405, 1.9396, 1.9396, 1.9368, 1.9367, 1.9346, 1.9345, 1.9319, 1.9318, 1.9303, 1.9303, 1.859, 1.8248, 1.8459, 1.8153, 1.7049, 1.6538, 1.5728, 1.7912, 1.1884, 1.7645, 1.8105, 1.6859, 0.9437, 0.632, 1.1431, 1.1762, 1.0797, -0.3399, 1.9888, 1.9884, 1.9871, 1.9857, 1.9817, 1.9776, 1.9773, 1.9762, 1.9741, 1.9702, 1.9702, 1.9687, 1.9653, 1.9643, 1.9643, 1.9632, 1.9594, 1.9579, 1.9563, 1.9546, 1.9545, 1.9526, 1.9526, 1.9505, 1.9505, 1.9481, 1.9481, 1.9481, 1.9455, 1.9455, 1.8756, 1.8995, 1.8811, 1.854, 1.7793, 1.7777, 1.8501, 1.6757, 1.8334, 1.7325, 1.7099, 1.3044, 1.4833, 1.5606, 1.7341, 1.3234, 1.4663, 1.4363, 1.6816, 1.223, 1.0978, 1.5584, 0.5413, 1.1934, -0.1095, 1.4586, 1.0713, -0.4653, 1.0766, 1.9948, 1.9934, 1.9932, 1.993, 1.9926, 1.9923, 1.9921, 1.9919, 1.9904, 1.9878, 1.9847, 1.9815, 1.9806, 1.9786, 1.9786, 1.9773, 1.9767, 1.9767, 1.9718, 1.9674, 1.966, 1.9645, 1.9645, 1.9645, 1.9629, 1.9612, 1.9612, 1.9612, 1.9592, 1.9592, 1.9387, 1.8223, 1.8735, 1.4839, 1.8179, 1.5369, 1.6735, 1.7104, 1.46, 1.7905, 1.6571, 1.5586, 1.6184, 0.8178, 1.4702, 1.0221, 0.4142, 0.3044, 0.8323, 2.039, 2.0359, 2.0329, 2.0326, 2.0323, 2.0322, 2.0318, 2.0315, 2.0301, 2.0293, 2.0293, 2.0268, 2.0268, 2.0242, 2.0231, 2.0231, 2.0226, 2.022, 2.0207, 2.02, 2.02, 2.0193, 2.0193, 2.0188, 2.0178, 2.0168, 2.0168, 2.0159, 2.0126, 2.0126, 1.8618, 1.9494, 1.8191, 1.8536, 1.8417, 1.9005, 1.87, 1.8596, 1.5902, 1.4664, 1.6541, 0.816, 0.2532, 1.5829, 1.3442, 0.4473, 1.1457]}, \"token.table\": {\"Topic\": [6, 2, 2, 1, 6, 3, 4, 2, 5, 1, 1, 2, 3, 5, 6, 7, 7, 4, 3, 1, 6, 6, 7, 5, 3, 6, 2, 3, 2, 3, 5, 3, 1, 3, 4, 5, 7, 3, 5, 6, 7, 5, 4, 1, 4, 1, 5, 6, 6, 3, 4, 4, 1, 2, 3, 5, 6, 4, 6, 7, 5, 7, 1, 2, 7, 2, 3, 1, 3, 5, 7, 7, 2, 4, 7, 3, 4, 5, 2, 7, 1, 2, 6, 2, 5, 3, 5, 4, 3, 1, 2, 3, 4, 5, 6, 5, 2, 5, 7, 7, 4, 5, 6, 6, 2, 7, 1, 2, 7, 3, 4, 5, 1, 5, 6, 6, 7, 1, 2, 5, 7, 1, 2, 2, 3, 6, 4, 4, 1, 3, 1, 6, 5, 2, 6, 2, 3, 7, 4, 5, 1, 2, 3, 7, 3, 4, 5, 6, 2, 3, 4, 7, 4, 7, 1, 1, 3, 2, 1, 1, 3, 4, 2, 5, 7, 5, 4, 1, 1, 2, 5, 7, 1, 3, 5, 6, 5, 5, 5, 3, 3, 5, 1, 3, 3, 6, 7, 4, 6, 6, 6, 4, 1, 1, 2, 2, 3, 5, 6, 7, 5, 6, 5, 6, 7, 5, 6, 7, 1, 2, 5, 7, 2, 5, 1, 7, 6, 1, 2, 3, 6, 1, 5, 6, 7, 1, 1, 2, 3, 5, 3, 6, 3, 4, 1, 2, 3, 1, 5, 6, 7, 1, 2, 3, 5, 6, 1, 5, 2, 7, 7, 1, 2, 3, 4, 6, 7, 2, 1, 3, 5, 6, 2, 4, 6, 4, 5, 7, 1, 2, 3, 1, 1, 3, 4, 4, 3, 4, 1, 4, 4, 2, 4, 5, 6, 2, 4, 3, 4, 5, 2, 1, 7, 4, 7, 4, 4, 5, 4, 5, 2, 3, 1, 6, 7, 4, 5, 1, 2, 3, 3, 7, 3, 5, 6, 1, 7, 5, 1, 6, 7, 1, 2, 4, 6, 3, 4, 5, 6, 5, 6, 7, 3, 7, 1, 4, 5, 6, 7, 5, 2, 7, 4, 6, 1, 2, 5, 4, 6, 1, 7, 2, 3, 5, 3, 6, 6, 1, 2, 3, 4, 5, 6, 7, 3, 6, 3, 6, 1, 4, 7, 1, 2, 6, 2, 3, 4, 6, 3, 3, 4, 4, 1, 5, 6, 7, 6, 2, 6, 7, 1, 3, 4, 6, 7, 5, 1, 2, 3, 5, 6, 7, 7, 3, 3, 1, 4, 1, 2, 4, 5, 6, 5, 6, 1, 5, 6, 5, 1, 4, 2, 7, 1, 5, 2, 1, 3, 4, 1, 2, 3, 4, 6, 4, 5, 3, 6, 5, 2, 4, 1, 6, 5, 5, 1, 3, 6, 5, 1, 7, 1, 5, 1, 2, 3, 2, 2, 7, 7, 7, 1, 2, 6, 6, 1, 3, 5, 6, 1, 5, 5, 2, 6, 1, 2, 3, 5, 6, 7, 6, 2, 3, 4, 2, 1, 2, 3, 6, 7, 6, 6, 5, 2, 3, 5, 1, 2, 5, 7, 3, 6, 6, 2, 4, 4, 2, 3, 2, 3, 4, 1, 1, 4, 4, 7, 1, 7, 3, 2, 4, 5, 4, 1, 3, 4, 6, 1, 5, 7, 7, 2, 1, 5, 7, 3, 6, 7, 7, 5, 7, 2, 3, 7, 2, 1, 4, 7, 3, 6, 7, 2, 3, 5, 6, 3, 4, 5, 4, 4, 6, 2, 1, 2, 7, 1, 3, 1, 3, 5, 1, 4, 5, 2, 7, 1, 2, 3, 4, 5, 6, 7, 1, 2, 4, 5, 5, 6, 7, 1, 2, 3, 6, 7, 1, 7, 2, 6, 1, 5, 6, 7, 7, 5, 6, 3, 4, 5, 2, 4, 7, 3, 2, 7, 5, 5], \"Freq\": [0.974518908086777, 0.9618425433678756, 0.9722304597500883, 0.8672250647170426, 0.13341924072569888, 0.9869659117168631, 0.9847571389573031, 0.8868930311773982, 0.10832281296823183, 0.9892261433477043, 0.6436161819045169, 0.35295080943150925, 0.3458957810981634, 0.10283388086702155, 0.1402280193641203, 0.4113355234680862, 0.973517843430305, 0.9891728101949836, 0.9832128157167042, 0.9752329483299618, 0.9746232960272303, 0.8824321039936719, 0.10027637545382635, 0.9497062656942453, 0.8402742050868469, 0.15277712819760855, 0.9792735616482077, 0.9849696915792652, 0.29137846117378374, 0.5594466454536648, 0.1398616613634162, 0.977513625103077, 0.1702460058662853, 0.04161569032286974, 0.2648271202364438, 0.2345611636379931, 0.29130983226008816, 0.27204578984574396, 0.5030280642430738, 0.1693870012247085, 0.056462333741569504, 0.9615209926569324, 0.9880909306370467, 0.22354099340527606, 0.7722325226727719, 0.9395429873719687, 0.953896051334855, 0.9745188082445448, 0.9842925146182299, 0.9670075132837272, 0.982349254858133, 0.9682763361447613, 0.591473846850318, 0.19079801511300581, 0.2098778166243064, 0.14844646306574974, 0.8411966240392486, 0.15768797162730613, 0.27595395034778575, 0.5617633989222781, 0.07244297894797735, 0.9176110666743799, 0.29957351932353016, 0.6932987161487413, 0.9683919323699022, 0.9682765170225709, 0.025649709060200556, 0.4616254345694047, 0.3639739003335691, 0.04438706101628891, 0.12428377084560896, 0.9899848314723425, 0.969550866332967, 0.9960629984461669, 0.9892173040869258, 0.6442947369664584, 0.1480136557895918, 0.20025376959768304, 0.9618424238608201, 0.9860701576675187, 0.6620222366136078, 0.1817315943645198, 0.15576993802673125, 0.7637305859374587, 0.23217409812498743, 0.8197380785994939, 0.17077876637489456, 0.964556456337767, 0.990106539017689, 0.1348675083459728, 0.14161088376327144, 0.2899651429438415, 0.17532776084976465, 0.05394700333838912, 0.20230126251895922, 0.9740798046271182, 0.9899692433147739, 0.1441250436977394, 0.8467346317242189, 0.9802793987144295, 0.09404644867470029, 0.31348816224900095, 0.5956275082731018, 0.9974169120831119, 0.7432711564102622, 0.24775705213675406, 0.9852655237827201, 0.9618425593560149, 0.9593383773378956, 0.9661615953056167, 0.7552603799232901, 0.2349698959761347, 0.014387140362586853, 0.2589685265265633, 0.7193570181293426, 0.8373424601449674, 0.1610273961817245, 0.5263031014736901, 0.2228144517187885, 0.049941170212831905, 0.20360630932923776, 0.8745488405359451, 0.10288809888658176, 0.9961171023092679, 0.9987232113608382, 0.9813175308750964, 0.9972665481771161, 0.975004972061104, 0.12368399633757433, 0.8657879743630204, 0.9775351102615111, 0.9665960314261447, 0.9956093526594398, 0.9876321410317, 0.9889065285192715, 0.9529482427669511, 0.9849697518124867, 0.9915649475686288, 0.7330134948133759, 0.26422579464203083, 0.10479533644894094, 0.48031195872431265, 0.32311895405090124, 0.09606239174486253, 0.26169646255211576, 0.3616169300720145, 0.17129223003411215, 0.20459905254074506, 0.16126868383890428, 0.15118939109897275, 0.19150656205869881, 0.4938853442566443, 0.8662813438894273, 0.12474451352007754, 0.9792897518473402, 0.9852655385151152, 0.9516600762659484, 0.9828735149863645, 0.9852655205605146, 0.972369013527325, 0.1344069103679981, 0.8661778668159876, 0.7278520642181717, 0.2687453775574788, 0.986186191835348, 0.9829054984964807, 0.9563009524801619, 0.982477185961715, 0.5381568501099272, 0.2192490870818222, 0.11294649940578719, 0.12623432286529157, 0.9558484408976984, 0.11041387411258, 0.6502150364407489, 0.2330959564598911, 0.9908900501608995, 0.94970632687367, 0.9559472041058474, 0.9559081487200352, 0.3974034804795096, 0.5961052207192643, 0.19801667392119388, 0.7920666956847755, 0.9635543783284815, 0.1622693954961172, 0.8260987407075058, 0.1775503923913446, 0.8116589366461467, 0.9914943023014544, 0.9568411205475281, 0.9921171199092659, 0.9508479035571771, 0.8496774563060658, 0.14565899250961128, 0.17805083179948045, 0.10880884165523805, 0.39566851510995654, 0.1384839802884848, 0.17805083179948045, 0.9888264266763558, 0.9921950859931257, 0.8592366985752891, 0.0260374757144027, 0.1041499028576108, 0.7697445989308045, 0.20993034516294667, 0.9803664698838748, 0.31759281911540177, 0.4763892286731027, 0.15879640955770088, 0.05293213651923363, 0.11516531991628275, 0.871965993651855, 0.6499299135420051, 0.3315968946642884, 0.9896478470219634, 0.3410517586594098, 0.4233745969565087, 0.12348425744564837, 0.1176040547101413, 0.9983896690768715, 0.9793125032837074, 0.11586769861694982, 0.8690077396271236, 0.9921572654947434, 0.20311218235631748, 0.6976461915716992, 0.008830964450274674, 0.07947868005247205, 0.9961268213984472, 0.9746228795844525, 0.9516602048100692, 0.9781202421177392, 0.10530376507796209, 0.8919848336015612, 0.9927459086921053, 0.5725722679766018, 0.10338110394021977, 0.11928588916179203, 0.19880981526965338, 0.1273765564884322, 0.18045012169194563, 0.46704737379091815, 0.1379912695291349, 0.08491770432562148, 0.25795565540697446, 0.7341814807736965, 0.16810269966427602, 0.8124963817106674, 0.9593383814586378, 0.10900389041132148, 0.06707931717619783, 0.20962286617561823, 0.4527853909393354, 0.04192457323512365, 0.11738880505834622, 0.9618425623450308, 0.3352776721996594, 0.4895054014115027, 0.026822213775972752, 0.14752217576785015, 0.9890775377809718, 0.8550146973346194, 0.13154072266686453, 0.9467254893309051, 0.7621130959891435, 0.217746598854041, 0.16651947239212175, 0.8325973619606087, 0.9813922335359595, 0.9454310430313977, 0.6755177689334947, 0.15406545607255143, 0.16591664500120923, 0.9915388656962618, 0.9062267254965514, 0.08238424777241377, 0.9558484981819075, 0.9950149356399015, 0.9847571844379958, 0.06988977295199812, 0.3494488647599906, 0.5707664791079846, 0.9665960560885978, 0.8035671084707445, 0.18806889772719554, 0.22592278006174088, 0.17836008952242702, 0.5945336317414234, 0.9809141089004658, 0.31748363389835105, 0.6782604906010227, 0.9861646889832464, 0.9834893281277388, 0.9645566783256472, 0.9658533194020061, 0.023557398034195272, 0.837980448053202, 0.14573573009620905, 0.9529483736244605, 0.9813922009216017, 0.9907456212203648, 0.6493868600580276, 0.35421101457710596, 0.94672536391914, 0.9793486622116699, 0.692480581446477, 0.2934239751891851, 0.9516602709785201, 0.015392609438927883, 0.9697343946524566, 0.9814019127091943, 0.8643427421692389, 0.12710922678959397, 0.9879975600213841, 0.985007444344943, 0.9559472476024924, 0.7037453567390916, 0.13278214278096068, 0.15933857133715282, 0.19581887934464, 0.08900858152029091, 0.017801716304058184, 0.6764652195542109, 0.38507230381247654, 0.45966746214264215, 0.12298120697675953, 0.03225736576439594, 0.9754823780466996, 0.9934215128382287, 0.9861355009816443, 0.7397024602558043, 0.2465674867519348, 0.08780396569400756, 0.23946536098365695, 0.40709111367221684, 0.13569703789073895, 0.13569703789073895, 0.9845282295421748, 0.9793623238024176, 0.9683838845733281, 0.9780998072011677, 0.9781542738084922, 0.34549479384835113, 0.6488560762517813, 0.9793125926902704, 0.40822987511335723, 0.5819447155871262, 0.9395431175249793, 0.9735763748011527, 0.9695511272748851, 0.07632094770323736, 0.9158513724388482, 0.9969984605780541, 0.997110112216039, 0.9620092671208299, 0.27042788448391897, 0.26846826213258623, 0.0764252717019771, 0.09994073991797005, 0.08622338345864083, 0.03135395762132394, 0.16656789986328344, 0.9795373884853422, 0.9870417474620926, 0.36776179057999747, 0.6304487838514242, 0.8005405395640962, 0.18617221850327817, 0.9861355236256361, 0.5900888266303067, 0.22397532105675874, 0.18521036164308896, 0.4123944742004015, 0.057735226388056206, 0.21444512658420878, 0.3134198003923051, 0.9732858847626736, 0.1762334225602015, 0.8106737437769268, 0.9862276695587034, 0.09119119687635215, 0.46507510406939595, 0.3738839071930438, 0.07295295750108172, 0.9707839167454343, 0.9903635739145364, 0.35410982289705656, 0.6232332882988195, 0.06142846314482046, 0.5282847830454559, 0.08599984840274864, 0.14742831154756908, 0.18428538943446138, 0.9559470522537313, 0.3337230929506441, 0.3496146688054367, 0.15891575854792575, 0.026485959757987627, 0.06886349537076783, 0.0635663034191703, 0.9824036003125741, 0.9598630111243961, 0.9775135955596919, 0.9792898728389379, 0.9981676078360922, 0.990577549116157, 0.26830221795896964, 0.4419095354618323, 0.1025861421607825, 0.1814985592075383, 0.961563394537675, 0.9665963638519525, 0.13758256249769027, 0.13758256249769027, 0.7051106328006627, 0.9712645432952729, 0.0925955540446597, 0.9028066519354322, 0.16516602829505186, 0.8258301414752593, 0.9638118146991871, 0.9666452202451595, 0.9831393964650131, 0.5187249284957701, 0.3523414608650514, 0.11744715362168381, 0.5022088003175512, 0.13870528770675225, 0.0669611733756735, 0.1243564648405365, 0.1626199924837785, 0.9861646315169679, 0.9666449497453584, 0.6797766077995383, 0.31075502070836036, 0.9712647149974584, 0.9771258197062809, 0.97806578328566, 0.055266170021490965, 0.9395248903653464, 0.968948816810215, 0.9578400248435792, 0.6021103590026193, 0.38210849705935457, 0.9746227515597399, 0.986138609917512, 0.8626873384585644, 0.12324104835122349, 0.7398941263190079, 0.24126982379967646, 0.14165072012954372, 0.6515933125959011, 0.2053935441878384, 0.9529484010185164, 0.15852779603688616, 0.8379326361949697, 0.9710544467495691, 0.9871716486423668, 0.532296226959552, 0.1809807171662477, 0.27679403801896707, 0.9814141002291518, 0.15697617130674418, 0.16678718201341572, 0.45130649250688953, 0.22565324625344477, 0.8390968267969056, 0.14384517030804095, 0.9792944894342672, 0.7863102337738835, 0.2102017456623253, 0.3483364871822465, 0.33031908267282, 0.05405221352827964, 0.13813343457227018, 0.09008702254713273, 0.04204061052199527, 0.9870546807679768, 0.8958342291733705, 0.1008555092446841, 0.0029663385071965914, 0.9757331835905996, 0.11112036903058331, 0.269863753359988, 0.3492354455246904, 0.23811507649410707, 0.03174867686588095, 0.9892947053916701, 0.9836777218400571, 0.9615636302711602, 0.9575599927811395, 0.9813954037244385, 0.9578399987150269, 0.12627235207863086, 0.09259972485766263, 0.5135075651197655, 0.26096286096250376, 0.9952082114464852, 0.9813175810959935, 0.9769075718033784, 0.8933000081381753, 0.07882058895336841, 0.993181033281383, 0.9822368786310106, 0.9882572775979215, 0.14296726243894753, 0.7148363121947376, 0.1250963546340791, 0.939542771220481, 0.945430926260626, 0.9750050000972676, 0.9862592112414128, 0.9710543296170567, 0.8405205451870109, 0.14617748611948017, 0.963554178075756, 0.06904702903248164, 0.15535581532308368, 0.759517319357298, 0.9802742177757816, 0.9867167499358428, 0.18131885282966478, 0.21758262339559775, 0.5957619450117557, 0.03445900323533952, 0.8873193333099927, 0.07753275727951393, 0.9827140013937853, 0.9835428941612516, 0.9558484352255093, 0.19611748259914563, 0.7947919031649586, 0.9838063638181442, 0.7401505880924739, 0.2467168626974913, 0.9735177862946862, 0.9002492325457212, 0.08374411465541592, 0.18626942372237423, 0.6985103389589035, 0.09313471186118712, 0.9575600780540044, 0.713117146788232, 0.12138164200650758, 0.15172705250813448, 0.8556883562529379, 0.12835325343794068, 0.9824034203322268, 0.3131437187809172, 0.03296249671378076, 0.6427686859187248, 0.9620094113032646, 0.5599134481746729, 0.029995363295071763, 0.3999381772676235, 0.9809464447742576, 0.879250849123429, 0.09769453879149212, 0.9886892428760973, 0.19927796473618842, 0.6675811818662312, 0.12953067707852248, 0.9604634279163158, 0.02770567580527834, 0.7570455995421852, 0.16058543020591806, 0.08029271510295903, 0.24170885183129154, 0.16617483563401295, 0.5891653263387732, 0.9890774788333709, 0.955920950301749, 0.18925727890539842, 0.31713381870634333, 0.06649580069649134, 0.20971752527354962, 0.030690369552226773, 0.05626567751241575, 0.13810666298502047, 0.9852655785740159, 0.7710873682481486, 0.112450241202855, 0.09638592103101858, 0.8037744924680695, 0.184472834336934, 0.9834893426594389, 0.19418145682378463, 0.39760964968679713, 0.0693505202942088, 0.3051422892945187, 0.03698694415691136, 0.9938310574610195, 0.9683836568207287, 0.9730324086891154, 0.9907237288980204, 0.9687812408593448, 0.7238906808997153, 0.2057373514136033, 0.06095921523366024, 0.978222341073411, 0.8062155711364989, 0.19195608836583306, 0.22479656027363498, 0.6743896808209049, 0.09990958234383776, 0.22284478944588523, 0.12901540441603881, 0.6333483489514633, 0.9732824306121814, 0.009315643408890113, 0.987458201342352, 0.9943739431769406, 0.9942504414813398], \"Term\": [\"19\", \"2014\", \"2015\", \"abc\", \"abc\", \"abuse\", \"accident\", \"accused\", \"accused\", \"act\", \"action\", \"action\", \"adelaide\", \"adelaide\", \"adelaide\", \"adelaide\", \"aged\", \"ahead\", \"airport\", \"alice\", \"alive\", \"amid\", \"amid\", \"anniversary\", \"appeal\", \"appeal\", \"approach\", \"arson\", \"assault\", \"assault\", \"assault\", \"asylum\", \"australia\", \"australia\", \"australia\", \"australia\", \"australia\", \"australian\", \"australian\", \"australian\", \"australian\", \"award\", \"baby\", \"ban\", \"ban\", \"base\", \"bashing\", \"beat\", \"begins\", \"blamed\", \"blast\", \"bomb\", \"boost\", \"boost\", \"boost\", \"boy\", \"boy\", \"brisbane\", \"brisbane\", \"brisbane\", \"broken\", \"broken\", \"budget\", \"budget\", \"bus\", \"calls\", \"calls\", \"canberra\", \"canberra\", \"canberra\", \"canberra\", \"cancer\", \"capital\", \"car\", \"care\", \"case\", \"case\", \"case\", \"ceo\", \"change\", \"changes\", \"changes\", \"changes\", \"charged\", \"charged\", \"charges\", \"charges\", \"chase\", \"child\", \"china\", \"china\", \"china\", \"china\", \"china\", \"china\", \"chinese\", \"christmas\", \"city\", \"city\", \"climate\", \"club\", \"club\", \"club\", \"coast\", \"community\", \"community\", \"concern\", \"confidence\", \"confident\", \"consider\", \"continue\", \"continue\", \"continues\", \"continues\", \"continues\", \"coronavirus\", \"coronavirus\", \"council\", \"council\", \"council\", \"council\", \"councils\", \"councils\", \"country\", \"court\", \"covid\", \"crash\", \"crashes\", \"crisis\", \"crisis\", \"criticises\", \"cruise\", \"cup\", \"cuts\", \"dairy\", \"dam\", \"darling\", \"day\", \"dead\", \"dead\", \"deal\", \"deal\", \"deal\", \"deal\", \"death\", \"death\", \"death\", \"death\", \"defends\", \"defends\", \"defends\", \"defends\", \"dies\", \"dies\", \"discuss\", \"dispute\", \"dollar\", \"donald\", \"doubt\", \"dr\", \"driver\", \"driver\", \"drug\", \"drug\", \"drum\", \"dry\", \"eagles\", \"east\", \"election\", \"election\", \"election\", \"election\", \"elections\", \"end\", \"end\", \"end\", \"england\", \"estate\", \"european\", \"evidence\", \"face\", \"face\", \"faces\", \"faces\", \"facing\", \"farm\", \"farm\", \"farmer\", \"farmer\", \"farmers\", \"farming\", \"fatal\", \"fed\", \"federal\", \"federal\", \"fight\", \"fight\", \"fight\", \"fight\", \"fight\", \"final\", \"flu\", \"france\", \"france\", \"france\", \"free\", \"free\", \"friday\", \"funding\", \"funding\", \"funding\", \"funding\", \"funds\", \"funds\", \"future\", \"future\", \"gold\", \"government\", \"government\", \"government\", \"government\", \"govt\", \"grand\", \"green\", \"green\", \"greens\", \"group\", \"group\", \"group\", \"group\", \"guilty\", \"half\", \"harbour\", \"head\", \"health\", \"health\", \"hears\", \"help\", \"help\", \"help\", \"help\", \"high\", \"high\", \"high\", \"high\", \"high\", \"highway\", \"highway\", \"hill\", \"hill\", \"history\", \"home\", \"home\", \"home\", \"home\", \"home\", \"home\", \"hong\", \"hospital\", \"hospital\", \"hospital\", \"hospital\", \"hour\", \"hunt\", \"hunt\", \"ice\", \"india\", \"india\", \"indigenous\", \"indigenous\", \"indonesia\", \"industrial\", \"industry\", \"industry\", \"industry\", \"injured\", \"inquest\", \"inquest\", \"insurance\", \"interview\", \"investigate\", \"iraq\", \"iraq\", \"iraq\", \"iron\", \"island\", \"island\", \"jailed\", \"jailed\", \"jailed\", \"job\", \"jobs\", \"jobs\", \"jones\", \"june\", \"kill\", \"killed\", \"killed\", \"kills\", \"kills\", \"kong\", \"korea\", \"labor\", \"land\", \"land\", \"lanka\", \"late\", \"laws\", \"laws\", \"lawyer\", \"lead\", \"lead\", \"leadership\", \"leads\", \"leads\", \"liberals\", \"live\", \"lives\", \"local\", \"local\", \"local\", \"make\", \"make\", \"make\", \"make\", \"man\", \"man\", \"man\", \"man\", \"manslaughter\", \"market\", \"markets\", \"media\", \"media\", \"melbourne\", \"melbourne\", \"melbourne\", \"melbourne\", \"melbourne\", \"men\", \"mental\", \"michael\", \"military\", \"milk\", \"minister\", \"minister\", \"miss\", \"missing\", \"missing\", \"mixed\", \"monday\", \"morrison\", \"mother\", \"mother\", \"murder\", \"national\", \"nations\", \"new\", \"new\", \"new\", \"new\", \"new\", \"new\", \"new\", \"newcastle\", \"news\", \"north\", \"north\", \"northern\", \"northern\", \"nrl\", \"nsw\", \"nsw\", \"nsw\", \"nt\", \"nt\", \"nt\", \"nt\", \"numbers\", \"nz\", \"nz\", \"officer\", \"open\", \"open\", \"open\", \"open\", \"opening\", \"opposition\", \"park\", \"park\", \"perth\", \"perth\", \"perth\", \"perth\", \"perth\", \"phone\", \"plan\", \"plan\", \"plan\", \"plan\", \"plan\", \"plan\", \"plant\", \"plea\", \"pleads\", \"pledges\", \"police\", \"poll\", \"power\", \"power\", \"power\", \"power\", \"prepares\", \"pressure\", \"price\", \"price\", \"price\", \"prince\", \"probe\", \"probe\", \"program\", \"program\", \"promises\", \"proposed\", \"protest\", \"public\", \"public\", \"public\", \"qld\", \"qld\", \"qld\", \"qld\", \"qld\", \"quake\", \"quarter\", \"queensland\", \"queensland\", \"questioned\", \"questions\", \"raid\", \"rain\", \"rain\", \"rape\", \"real\", \"record\", \"record\", \"records\", \"red\", \"regional\", \"regional\", \"rejects\", \"rejects\", \"report\", \"report\", \"report\", \"reporter\", \"residents\", \"residents\", \"restrictions\", \"return\", \"rise\", \"rise\", \"rise\", \"rises\", \"road\", \"road\", \"road\", \"road\", \"rudd\", \"rudd\", \"rugby\", \"rural\", \"rural\", \"sa\", \"sa\", \"sa\", \"sa\", \"sa\", \"sa\", \"safety\", \"says\", \"says\", \"says\", \"scheme\", \"school\", \"school\", \"school\", \"school\", \"school\", \"search\", \"season\", \"seat\", \"sell\", \"sentence\", \"sentenced\", \"set\", \"set\", \"set\", \"set\", \"sex\", \"share\", \"ship\", \"shire\", \"shire\", \"shooting\", \"signs\", \"southern\", \"speaks\", \"speaks\", \"speaks\", \"sport\", \"springs\", \"sri\", \"stabbing\", \"stage\", \"star\", \"star\", \"stars\", \"start\", \"start\", \"start\", \"stolen\", \"street\", \"sydney\", \"sydney\", \"sydney\", \"talks\", \"talks\", \"talks\", \"team\", \"term\", \"territory\", \"test\", \"test\", \"tests\", \"threat\", \"threat\", \"tigers\", \"title\", \"title\", \"told\", \"told\", \"told\", \"tony\", \"tourism\", \"tourism\", \"tourism\", \"town\", \"town\", \"track\", \"trade\", \"trade\", \"trade\", \"tree\", \"trial\", \"trial\", \"trial\", \"troops\", \"truck\", \"truck\", \"trump\", \"union\", \"union\", \"union\", \"urged\", \"urged\", \"urges\", \"urges\", \"urges\", \"victims\", \"victims\", \"victims\", \"violence\", \"vs\", \"wa\", \"wa\", \"wa\", \"wa\", \"wa\", \"wa\", \"wa\", \"wall\", \"wants\", \"wants\", \"wants\", \"war\", \"war\", \"warriors\", \"water\", \"water\", \"water\", \"water\", \"water\", \"weather\", \"wednesday\", \"welfare\", \"west\", \"wide\", \"win\", \"win\", \"win\", \"wind\", \"wins\", \"wins\", \"woman\", \"woman\", \"woman\", \"work\", \"work\", \"work\", \"worker\", \"workers\", \"workers\", \"world\", \"years\"]}, \"R\": 30, \"lambda.step\": 0.01, \"plot.opts\": {\"xlab\": \"PC1\", \"ylab\": \"PC2\"}, \"topic.order\": [1, 2, 3, 5, 4, 7, 6]};\n",
       "\n",
       "function LDAvis_load_lib(url, callback){\n",
       "  var s = document.createElement('script');\n",
       "  s.src = url;\n",
       "  s.async = true;\n",
       "  s.onreadystatechange = s.onload = callback;\n",
       "  s.onerror = function(){console.warn(\"failed to load library \" + url);};\n",
       "  document.getElementsByTagName(\"head\")[0].appendChild(s);\n",
       "}\n",
       "\n",
       "if(typeof(LDAvis) !== \"undefined\"){\n",
       "   // already loaded: just create the visualization\n",
       "   !function(LDAvis){\n",
       "       new LDAvis(\"#\" + \"ldavis_el5658658616515842264142829\", ldavis_el5658658616515842264142829_data);\n",
       "   }(LDAvis);\n",
       "}else if(typeof define === \"function\" && define.amd){\n",
       "   // require.js is available: use it to load d3/LDAvis\n",
       "   require.config({paths: {d3: \"https://cdnjs.cloudflare.com/ajax/libs/d3/3.5.5/d3.min\"}});\n",
       "   require([\"d3\"], function(d3){\n",
       "      window.d3 = d3;\n",
       "      LDAvis_load_lib(\"https://cdn.rawgit.com/bmabey/pyLDAvis/files/ldavis.v1.0.0.js\", function(){\n",
       "        new LDAvis(\"#\" + \"ldavis_el5658658616515842264142829\", ldavis_el5658658616515842264142829_data);\n",
       "      });\n",
       "    });\n",
       "}else{\n",
       "    // require.js not available: dynamically load d3 & LDAvis\n",
       "    LDAvis_load_lib(\"https://cdnjs.cloudflare.com/ajax/libs/d3/3.5.5/d3.min.js\", function(){\n",
       "         LDAvis_load_lib(\"https://cdn.rawgit.com/bmabey/pyLDAvis/files/ldavis.v1.0.0.js\", function(){\n",
       "                 new LDAvis(\"#\" + \"ldavis_el5658658616515842264142829\", ldavis_el5658658616515842264142829_data);\n",
       "            })\n",
       "         });\n",
       "}\n",
       "</script>"
      ],
      "text/plain": [
       "PreparedData(topic_coordinates=               x          y  topics  cluster       Freq\n",
       "topic                                                  \n",
       "0     -29.594002  60.112713       1        1  15.711314\n",
       "1     -45.996586  11.891685       2        1  15.705909\n",
       "2      20.368856  70.019325       3        1  14.513895\n",
       "4      53.928768  31.704309       4        1  13.988385\n",
       "3     -12.437127 -26.423267       5        1  13.612071\n",
       "6       3.965971  21.797720       6        1  13.525340\n",
       "5      37.524284 -16.517805       7        1  12.943086, topic_info=           Term        Freq       Total Category  logprob  loglift\n",
       "4274     police  578.000000  578.000000  Default  30.0000  30.0000\n",
       "3002  interview  259.000000  259.000000  Default  29.0000  29.0000\n",
       "1449      court  264.000000  264.000000  Default  28.0000  28.0000\n",
       "5015       says  337.000000  337.000000  Default  27.0000  27.0000\n",
       "3493        man  496.000000  496.000000  Default  26.0000  26.0000\n",
       "...         ...         ...         ...      ...      ...      ...\n",
       "3849        new   85.076358  510.302406   Topic7  -4.9170   0.2532\n",
       "4077       park   44.492867   70.599567   Topic7  -5.5652   1.5829\n",
       "1641    defends   49.247735   99.213310   Topic7  -5.4637   1.3442\n",
       "1431    council   52.695511  260.306275   Topic7  -5.3960   0.4473\n",
       "160    adelaide   43.536609  106.968636   Topic7  -5.5869   1.1457\n",
       "\n",
       "[401 rows x 6 columns], token_table=      Topic      Freq     Term\n",
       "term                          \n",
       "23        6  0.974519       19\n",
       "40        2  0.961843     2014\n",
       "41        2  0.972230     2015\n",
       "106       1  0.867225      abc\n",
       "106       6  0.133419      abc\n",
       "...     ...       ...      ...\n",
       "6369      3  0.973282   worker\n",
       "6370      2  0.009316  workers\n",
       "6370      7  0.987458  workers\n",
       "6375      5  0.994374    world\n",
       "6408      5  0.994250    years\n",
       "\n",
       "[615 rows x 3 columns], R=30, lambda_step=0.01, plot_opts={'xlab': 'PC1', 'ylab': 'PC2'}, topic_order=[1, 2, 3, 5, 4, 7, 6])"
      ]
     },
     "execution_count": 42,
     "metadata": {},
     "output_type": "execute_result"
    }
   ],
   "source": [
    "panel = pyLDAvis.sklearn.prepare(LDA_model, dtm, cv, mds='tsne') # Create the panel for the visualization\n",
    "panel"
   ]
  },
  {
   "cell_type": "markdown",
   "metadata": {},
   "source": [
    "### Some Comments On The Graphic     \n",
    "\n",
    "- By selecting a particular term on the right, we can see which topic(s) it belongs.    \n",
    "- Vice-versa, by choosing a topic on the left, we can see all the terms, from most to least relevant term.  "
   ]
  },
  {
   "cell_type": "markdown",
   "metadata": {},
   "source": [
    "**If you liked this kernel, please upvote. I am also open to suggestions**"
   ]
  },
  {
   "cell_type": "code",
   "execution_count": null,
   "metadata": {},
   "outputs": [],
   "source": []
  }
 ],
 "metadata": {
  "kernelspec": {
   "display_name": "Python 3",
   "language": "python",
   "name": "python3"
  },
  "language_info": {
   "codemirror_mode": {
    "name": "ipython",
    "version": 3
   },
   "file_extension": ".py",
   "mimetype": "text/x-python",
   "name": "python",
   "nbconvert_exporter": "python",
   "pygments_lexer": "ipython3",
   "version": "3.6.8"
  },
  "toc": {
   "base_numbering": 1,
   "nav_menu": {},
   "number_sections": true,
   "sideBar": true,
   "skip_h1_title": false,
   "title_cell": "Table of Contents",
   "title_sidebar": "Contents",
   "toc_cell": false,
   "toc_position": {},
   "toc_section_display": true,
   "toc_window_display": false
  }
 },
 "nbformat": 4,
 "nbformat_minor": 4
}
